{
 "cells": [
  {
   "cell_type": "markdown",
   "metadata": {
    "id": "g_nWetWWd_ns"
   },
   "source": [
    "##### Copyright 2019 The TensorFlow Authors."
   ]
  },
  {
   "cell_type": "code",
   "execution_count": 1,
   "metadata": {
    "cellView": "form",
    "execution": {
     "iopub.execute_input": "2022-08-31T05:12:09.546309Z",
     "iopub.status.busy": "2022-08-31T05:12:09.545668Z",
     "iopub.status.idle": "2022-08-31T05:12:09.549842Z",
     "shell.execute_reply": "2022-08-31T05:12:09.549323Z"
    },
    "id": "2pHVBk_seED1"
   },
   "outputs": [],
   "source": [
    "#@title Licensed under the Apache License, Version 2.0 (the \"License\");\n",
    "# you may not use this file except in compliance with the License.\n",
    "# You may obtain a copy of the License at\n",
    "#\n",
    "# https://www.apache.org/licenses/LICENSE-2.0\n",
    "#\n",
    "# Unless required by applicable law or agreed to in writing, software\n",
    "# distributed under the License is distributed on an \"AS IS\" BASIS,\n",
    "# WITHOUT WARRANTIES OR CONDITIONS OF ANY KIND, either express or implied.\n",
    "# See the License for the specific language governing permissions and\n",
    "# limitations under the License."
   ]
  },
  {
   "cell_type": "code",
   "execution_count": 2,
   "metadata": {
    "cellView": "form",
    "execution": {
     "iopub.execute_input": "2022-08-31T05:12:09.553304Z",
     "iopub.status.busy": "2022-08-31T05:12:09.552768Z",
     "iopub.status.idle": "2022-08-31T05:12:09.556116Z",
     "shell.execute_reply": "2022-08-31T05:12:09.555603Z"
    },
    "id": "N_fMsQ-N8I7j"
   },
   "outputs": [],
   "source": [
    "#@title MIT License\n",
    "#\n",
    "# Copyright (c) 2017 François Chollet\n",
    "#\n",
    "# Permission is hereby granted, free of charge, to any person obtaining a\n",
    "# copy of this software and associated documentation files (the \"Software\"),\n",
    "# to deal in the Software without restriction, including without limitation\n",
    "# the rights to use, copy, modify, merge, publish, distribute, sublicense,\n",
    "# and/or sell copies of the Software, and to permit persons to whom the\n",
    "# Software is furnished to do so, subject to the following conditions:\n",
    "#\n",
    "# The above copyright notice and this permission notice shall be included in\n",
    "# all copies or substantial portions of the Software.\n",
    "#\n",
    "# THE SOFTWARE IS PROVIDED \"AS IS\", WITHOUT WARRANTY OF ANY KIND, EXPRESS OR\n",
    "# IMPLIED, INCLUDING BUT NOT LIMITED TO THE WARRANTIES OF MERCHANTABILITY,\n",
    "# FITNESS FOR A PARTICULAR PURPOSE AND NONINFRINGEMENT. IN NO EVENT SHALL\n",
    "# THE AUTHORS OR COPYRIGHT HOLDERS BE LIABLE FOR ANY CLAIM, DAMAGES OR OTHER\n",
    "# LIABILITY, WHETHER IN AN ACTION OF CONTRACT, TORT OR OTHERWISE, ARISING\n",
    "# FROM, OUT OF OR IN CONNECTION WITH THE SOFTWARE OR THE USE OR OTHER\n",
    "# DEALINGS IN THE SOFTWARE."
   ]
  },
  {
   "cell_type": "markdown",
   "metadata": {
    "id": "pZJ3uY9O17VN"
   },
   "source": [
    "# 保存和恢复模型"
   ]
  },
  {
   "cell_type": "markdown",
   "metadata": {
    "id": "M4Ata7_wMul1"
   },
   "source": [
    "<table class=\"tfo-notebook-buttons\" align=\"left\">\n",
    "  <td><a target=\"_blank\" href=\"https://tensorflow.google.cn/tutorials/keras/save_and_load\">     <img src=\"https://tensorflow.google.cn/images/tf_logo_32px.png\">     在 TensorFlow.org 上查看</a></td>\n",
    "  <td>     <a target=\"_blank\" href=\"https://colab.research.google.com/github/tensorflow/docs-l10n/blob/master/site/zh-cn/tutorials/keras/save_and_load.ipynb\"><img src=\"https://tensorflow.google.cn/images/colab_logo_32px.png\">在 Google Colab 运行</a>   </td>\n",
    "  <td>     <a target=\"_blank\" href=\"https://github.com/tensorflow/docs-l10n/blob/master/site/zh-cn/tutorials/keras/save_and_load.ipynb\"><img src=\"https://tensorflow.google.cn/images/GitHub-Mark-32px.png\">在 Github 上查看源代码</a>   </td>\n",
    "  <td>     <a href=\"https://storage.googleapis.com/tensorflow_docs/docs-l10n/site/zh-cn/tutorials/keras/save_and_load.ipynb\" class=\"_active_edit_href\"><img src=\"https://tensorflow.google.cn/images/download_logo_32px.png\">下载笔记本</a>\n",
    "</td>\n",
    "</table>"
   ]
  },
  {
   "cell_type": "markdown",
   "metadata": {
    "id": "mBdde4YJeJKF"
   },
   "source": [
    "可以在训练期间和之后保存模型进度。这意味着模型可以从停止的地方恢复，避免长时间的训练。此外，保存还意味着您可以分享您的模型，其他人可以重现您的工作。在发布研究模型和技术时，大多数机器学习从业者会分享：\n",
    "\n",
    "- 用于创建模型的代码\n",
    "- 模型训练的权重 (weight) 和参数 (parameters) 。\n",
    "\n",
    "共享数据有助于其他人了解模型的工作原理，并使用新数据自行尝试。\n",
    "\n",
    "小心：TensorFlow 模型是代码，对于不受信任的代码，一定要小心。请参阅 [安全使用 TensorFlow](https://github.com/tensorflow/tensorflow/blob/master/SECURITY.md) 以了解详情。\n",
    "\n",
    "### 选项\n",
    "\n",
    "根据您使用的 API，可以通过多种方式保存 TensorFlow 模型。本指南使用 [tf.keras](https://tensorflow.google.cn/guide/keras)，这是一种在 TensorFlow 中构建和训练模型的高级 API。对于其他方式，请参阅[使用 SavedModel 格式指南](../../guide/saved_model.ipynb)以及[保存和加载 Keras 模型指南](https://tensorflow.google.cn/guide/keras/save_and_serialize)。"
   ]
  },
  {
   "cell_type": "markdown",
   "metadata": {
    "id": "xCUREq7WXgvg"
   },
   "source": [
    "## 配置\n",
    "\n",
    "### 安装并导入"
   ]
  },
  {
   "cell_type": "markdown",
   "metadata": {
    "id": "7l0MiTOrXtNv"
   },
   "source": [
    "安装并导入Tensorflow和依赖项："
   ]
  },
  {
   "cell_type": "code",
   "execution_count": 3,
   "metadata": {
    "execution": {
     "iopub.execute_input": "2022-08-31T05:12:09.560643Z",
     "iopub.status.busy": "2022-08-31T05:12:09.560197Z",
     "iopub.status.idle": "2022-08-31T05:12:11.121295Z",
     "shell.execute_reply": "2022-08-31T05:12:11.120396Z"
    },
    "id": "RzIOVSdnMYyO"
   },
   "outputs": [
    {
     "name": "stdout",
     "output_type": "stream",
     "text": [
      "Collecting pyyaml\r\n",
      "  Using cached PyYAML-6.0-cp39-cp39-manylinux_2_5_x86_64.manylinux1_x86_64.manylinux_2_12_x86_64.manylinux2010_x86_64.whl (661 kB)\r\n",
      "Requirement already satisfied: h5py in /tmpfs/src/tf_docs_env/lib/python3.9/site-packages (3.7.0)\r\n",
      "Requirement already satisfied: numpy>=1.14.5 in /tmpfs/src/tf_docs_env/lib/python3.9/site-packages (from h5py) (1.23.2)\r\n"
     ]
    },
    {
     "name": "stdout",
     "output_type": "stream",
     "text": [
      "Installing collected packages: pyyaml\r\n"
     ]
    },
    {
     "name": "stdout",
     "output_type": "stream",
     "text": [
      "Successfully installed pyyaml-6.0\r\n"
     ]
    }
   ],
   "source": [
    "!pip install pyyaml h5py  # Required to save models in HDF5 format"
   ]
  },
  {
   "cell_type": "code",
   "execution_count": 1,
   "metadata": {
    "execution": {
     "iopub.execute_input": "2022-08-31T05:12:11.125783Z",
     "iopub.status.busy": "2022-08-31T05:12:11.125181Z",
     "iopub.status.idle": "2022-08-31T05:12:13.098810Z",
     "shell.execute_reply": "2022-08-31T05:12:13.098012Z"
    },
    "id": "7Nm7Tyb-gRt-"
   },
   "outputs": [
    {
     "name": "stderr",
     "output_type": "stream",
     "text": [
      "2023-11-23 17:13:52.311142: I tensorflow/core/util/port.cc:111] oneDNN custom operations are on. You may see slightly different numerical results due to floating-point round-off errors from different computation orders. To turn them off, set the environment variable `TF_ENABLE_ONEDNN_OPTS=0`.\n",
      "2023-11-23 17:13:52.330021: E tensorflow/compiler/xla/stream_executor/cuda/cuda_dnn.cc:9342] Unable to register cuDNN factory: Attempting to register factory for plugin cuDNN when one has already been registered\n",
      "2023-11-23 17:13:52.330035: E tensorflow/compiler/xla/stream_executor/cuda/cuda_fft.cc:609] Unable to register cuFFT factory: Attempting to register factory for plugin cuFFT when one has already been registered\n",
      "2023-11-23 17:13:52.330049: E tensorflow/compiler/xla/stream_executor/cuda/cuda_blas.cc:1518] Unable to register cuBLAS factory: Attempting to register factory for plugin cuBLAS when one has already been registered\n",
      "2023-11-23 17:13:52.333708: I tensorflow/core/platform/cpu_feature_guard.cc:182] This TensorFlow binary is optimized to use available CPU instructions in performance-critical operations.\n",
      "To enable the following instructions: AVX2 AVX_VNNI FMA, in other operations, rebuild TensorFlow with the appropriate compiler flags.\n",
      "2023-11-23 17:13:52.725094: W tensorflow/compiler/tf2tensorrt/utils/py_utils.cc:38] TF-TRT Warning: Could not find TensorRT\n"
     ]
    },
    {
     "name": "stdout",
     "output_type": "stream",
     "text": [
      "2.14.0\n"
     ]
    }
   ],
   "source": [
    "import os\n",
    "\n",
    "import tensorflow as tf\n",
    "from tensorflow import keras\n",
    "\n",
    "print(tf.version.VERSION)"
   ]
  },
  {
   "cell_type": "code",
   "execution_count": 3,
   "metadata": {},
   "outputs": [
    {
     "name": "stderr",
     "output_type": "stream",
     "text": [
      "2023-11-23 16:17:22.710348: I tensorflow/compiler/xla/stream_executor/cuda/cuda_gpu_executor.cc:894] successful NUMA node read from SysFS had negative value (-1), but there must be at least one NUMA node, so returning NUMA node zero. See more at https://github.com/torvalds/linux/blob/v6.0/Documentation/ABI/testing/sysfs-bus-pci#L344-L355\n",
      "2023-11-23 16:17:22.710729: I tensorflow/compiler/xla/stream_executor/cuda/cuda_gpu_executor.cc:894] successful NUMA node read from SysFS had negative value (-1), but there must be at least one NUMA node, so returning NUMA node zero. See more at https://github.com/torvalds/linux/blob/v6.0/Documentation/ABI/testing/sysfs-bus-pci#L344-L355\n",
      "2023-11-23 16:17:22.710801: I tensorflow/compiler/xla/stream_executor/cuda/cuda_gpu_executor.cc:894] successful NUMA node read from SysFS had negative value (-1), but there must be at least one NUMA node, so returning NUMA node zero. See more at https://github.com/torvalds/linux/blob/v6.0/Documentation/ABI/testing/sysfs-bus-pci#L344-L355\n",
      "2023-11-23 16:17:22.710852: I tensorflow/compiler/xla/stream_executor/cuda/cuda_gpu_executor.cc:894] successful NUMA node read from SysFS had negative value (-1), but there must be at least one NUMA node, so returning NUMA node zero. See more at https://github.com/torvalds/linux/blob/v6.0/Documentation/ABI/testing/sysf"
     ]
    },
    {
     "data": {
      "text/plain": [
       "(True,\n",
       " [PhysicalDevice(name='/physical_device:GPU:0', device_type='GPU'),\n",
       "  PhysicalDevice(name='/physical_device:GPU:1', device_type='GPU')])"
      ]
     },
     "execution_count": 3,
     "metadata": {},
     "output_type": "execute_result"
    },
    {
     "name": "stderr",
     "output_type": "stream",
     "text": [
      "s-bus-pci#L344-L355\n",
      "2023-11-23 16:17:22.710900: I tensorflow/compiler/xla/stream_executor/cuda/cuda_gpu_executor.cc:894] successful NUMA node read from SysFS had negative value (-1), but there must be at least one NUMA node, so returning NUMA node zero. See more at https://github.com/torvalds/linux/blob/v6.0/Documentation/ABI/testing/sysfs-bus-pci#L344-L355\n",
      "2023-11-23 16:17:22.710950: I tensorflow/compiler/xla/stream_executor/cuda/cuda_gpu_executor.cc:894] successful NUMA node read from SysFS had negative value (-1), but there must be at least one NUMA node, so returning NUMA node zero. See more at https://github.com/torvalds/linux/blob/v6.0/Documentation/ABI/testing/sysfs-bus-pci#L344-L355\n",
      "2023-11-23 16:17:22.711033: I tensorflow/compiler/xla/stream_executor/cuda/cuda_gpu_executor.cc:894] successful NUMA node read from SysFS had negative value (-1), but there must be at least one NUMA node, so returning NUMA node zero. See more at https://github.com/torvalds/linux/blob/v6.0/Documentation/ABI/testing/sysfs-bus-pci#L344-L355\n",
      "2023-11-23 16:17:22.711082: I tensorflow/compiler/xla/stream_executor/cuda/cuda_gpu_executor.cc:894] successful NUMA node read from SysFS had negative value (-1), but there must be at least one NUMA node, so returning NUMA node zero. See more at https://github.com/torvalds/linux/blob/v6.0/Documentation/ABI/testing/sysfs-bus-pci#L344-L355\n",
      "2023-11-23 16:17:22.711131: I tensorflow/compiler/xla/stream_executor/cuda/cuda_gpu_executor.cc:894] successful NUMA node read from SysFS had negative value (-1), but there must be at least one NUMA node, so returning NUMA node zero. See more at https://github.com/torvalds/linux/blob/v6.0/Documentation/ABI/testing/sysfs-bus-pci#L344-L355\n",
      "2023-11-23 16:17:22.711174: I tensorflow/core/common_runtime/gpu/gpu_device.cc:1886] Created device /device:GPU:0 with 13887 MB memory:  -> device: 0, name: NVIDIA GeForce RTX 4080, pci bus id: 0000:01:00.0, compute capability: 8.9\n",
      "2023-11-23 16:17:22.711189: I tensorflow/compiler/xla/stream_executor/cuda/cuda_gpu_executor.cc:894] successful NUMA node read from SysFS had negative value (-1), but there must be at least one NUMA node, so returning NUMA node zero. See more at https://github.com/torvalds/linux/blob/v6.0/Documentation/ABI/testing/sysfs-bus-pci#L344-L355\n",
      "2023-11-23 16:17:22.711230: I tensorflow/core/common_runtime/gpu/gpu_device.cc:1886] Created device /device:GPU:1 with 14290 MB memory:  -> device: 1, name: NVIDIA GeForce RTX 4080, pci bus id: 0000:02:00.0, compute capability: 8.9\n"
     ]
    }
   ],
   "source": [
    "tf.test.is_gpu_available(),tf.config.list_physical_devices('GPU')"
   ]
  },
  {
   "cell_type": "markdown",
   "metadata": {
    "id": "SbGsznErXWt6"
   },
   "source": [
    "### 获取示例数据集\n",
    "\n",
    "为了演示如何保存和加载权重，您将使用 [MNIST 数据集](http://yann.lecun.com/exdb/mnist/)。为了加快运行速度，请使用前 1000 个样本："
   ]
  },
  {
   "cell_type": "code",
   "execution_count": 2,
   "metadata": {
    "execution": {
     "iopub.execute_input": "2022-08-31T05:12:13.103142Z",
     "iopub.status.busy": "2022-08-31T05:12:13.102698Z",
     "iopub.status.idle": "2022-08-31T05:12:13.388053Z",
     "shell.execute_reply": "2022-08-31T05:12:13.387204Z"
    },
    "id": "9rGfFwE9XVwz"
   },
   "outputs": [],
   "source": [
    "(train_images, train_labels), (test_images, test_labels) = tf.keras.datasets.mnist.load_data()\n",
    "\n",
    "train_labels = train_labels[:1000]\n",
    "test_labels = test_labels[:1000]\n",
    "\n",
    "train_images = train_images[:1000].reshape(-1, 28 * 28) / 255.0\n",
    "test_images = test_images[:1000].reshape(-1, 28 * 28) / 255.0"
   ]
  },
  {
   "cell_type": "code",
   "execution_count": null,
   "metadata": {},
   "outputs": [],
   "source": []
  },
  {
   "cell_type": "markdown",
   "metadata": {
    "id": "anG3iVoXyZGI"
   },
   "source": [
    "### 定义模型"
   ]
  },
  {
   "cell_type": "markdown",
   "metadata": {
    "id": "wynsOBfby0Pa"
   },
   "source": [
    "首先构建一个简单的序列（sequential）模型："
   ]
  },
  {
   "cell_type": "code",
   "execution_count": 3,
   "metadata": {
    "execution": {
     "iopub.execute_input": "2022-08-31T05:12:13.393060Z",
     "iopub.status.busy": "2022-08-31T05:12:13.392521Z",
     "iopub.status.idle": "2022-08-31T05:12:16.707163Z",
     "shell.execute_reply": "2022-08-31T05:12:16.706444Z"
    },
    "id": "0HZbJIjxyX1S"
   },
   "outputs": [
    {
     "name": "stdout",
     "output_type": "stream",
     "text": [
      "Model: \"sequential\"\n",
      "_________________________________________________________________\n",
      " Layer (type)                Output Shape              Param #   \n",
      "=================================================================\n",
      " dense (Dense)               (None, 512)               401920    \n",
      "                                                                 \n",
      " dropout (Dropout)           (None, 512)               0         \n",
      "                                                                 \n",
      " dense_1 (Dense)             (None, 10)                5130      \n",
      "                                                                 \n",
      "=================================================================\n",
      "Total params: 407050 (1.55 MB)\n",
      "Trainable params: 407050 (1.55 MB)\n",
      "Non-trainable params: 0 (0.00 Byte)\n",
      "_________________________________________________________________\n"
     ]
    },
    {
     "name": "stderr",
     "output_type": "stream",
     "text": [
      "2023-11-23 17:14:00.071139: I tensorflow/compiler/xla/stream_executor/cuda/cuda_gpu_executor.cc:894] successful NUMA node read from SysFS had negative value (-1), but there must be at least one NUMA node, so returning NUMA node zero. See more at https://github.com/torvalds/linux/blob/v6.0/Documentation/ABI/testing/sysfs-bus-pci#L344-L355\n",
      "2023-11-23 17:14:00.071236: I tensorflow/compiler/xla/stream_executor/cuda/cuda_gpu_executor.cc:894] successful NUMA node read from SysFS had negative value (-1), but there must be at least one NUMA node, so returning NUMA node zero. See more at https://github.com/torvalds/linux/blob/v6.0/Documentation/ABI/testing/sysfs-bus-pci#L344-L355\n",
      "2023-11-23 17:14:00.084742: I tensorflow/compiler/xla/stream_executor/cuda/cuda_gpu_executor.cc:894] successful NUMA node read from SysFS had negative value (-1), but there must be at least one NUMA node, so returning NUMA node zero. See more at https://github.com/torvalds/linux/blob/v6.0/Documentation/ABI/testing/sysfs-bus-pci#L344-L355\n",
      "2023-11-23 17:14:00.084862: I tensorflow/compiler/xla/stream_executor/cuda/cuda_gpu_executor.cc:894] successful NUMA node read from SysFS had negative value (-1), but there must be at least one NUMA node, so returning NUMA node zero. See more at https://github.com/torvalds/linux/blob/v6.0/Documentation/ABI/testing/sysfs-bus-pci#L344-L355\n",
      "2023-11-23 17:14:00.084927: I tensorflow/compiler/xla/stream_executor/cuda/cuda_gpu_executor.cc:894] successful NUMA node read from SysFS had negative value (-1), but there must be at least one NUMA node, so returning NUMA node zero. See more at https://github.com/torvalds/linux/blob/v6.0/Documentation/ABI/testing/sysfs-bus-pci#L344-L355\n",
      "2023-11-23 17:14:00.084976: I tensorflow/compiler/xla/stream_executor/cuda/cuda_gpu_executor.cc:894] successful NUMA node read from SysFS had negative value (-1), but there must be at least one NUMA node, so returning NUMA node zero. See more at https://github.com/torvalds/linux/blob/v6.0/Documentation/ABI/testing/sysfs-bus-pci#L344-L355\n",
      "2023-11-23 17:14:00.180956: I tensorflow/compiler/xla/stream_executor/cuda/cuda_gpu_executor.cc:894] successful NUMA node read from SysFS had negative value (-1), but there must be at least one NUMA node, so returning NUMA node zero. See more at https://github.com/torvalds/linux/blob/v6.0/Documentation/ABI/testing/sysfs-bus-pci#L344-L355\n",
      "2023-11-23 17:14:00.181055: I tensorflow/compiler/xla/stream_executor/cuda/cuda_gpu_executor.cc:894] successful NUMA node read from SysFS had negative value (-1), but there must be at least one NUMA node, so returning NUMA node zero. See more at https://github.com/torvalds/linux/blob/v6.0/Documentation/ABI/testing/sysfs-bus-pci#L344-L355\n",
      "2023-11-23 17:14:00.181112: I tensorflow/compiler/xla/stream_executor/cuda/cuda_gpu_executor.cc:894] successful NUMA node read from SysFS had negative value (-1), but there must be at least one NUMA node, so returning NUMA node zero. See more at https://github.com/torvalds/linux/blob/v6.0/Documentation/ABI/testing/sysfs-bus-pci#L344-L355\n",
      "2023-11-23 17:14:00.181160: I tensorflow/compiler/xla/stream_executor/cuda/cuda_gpu_executor.cc:894] successful NUMA node read from SysFS had negative value (-1), but there must be at least one NUMA node, so returning NUMA node zero. See more at https://github.com/torvalds/linux/blob/v6.0/Documentation/ABI/testing/sysfs-bus-pci#L344-L355\n",
      "2023-11-23 17:14:00.181208: I tensorflow/compiler/xla/stream_executor/cuda/cuda_gpu_executor.cc:894] successful NUMA node read from SysFS had negative value (-1), but there must be at least one NUMA node, so returning NUMA node zero. See more at https://github.com/torvalds/linux/blob/v6.0/Documentation/ABI/testing/sysfs-bus-pci#L344-L355\n",
      "2023-11-23 17:14:00.181256: I tensorflow/compiler/xla/stream_executor/cuda/cuda_gpu_executor.cc:894] successful NUMA node read from SysFS had negative value (-1), but there must be at least one NUMA node, so returning NUMA node zero. See more at https://github.com/torvalds/linux/blob/v6.0/Documentation/ABI/testing/sysfs-bus-pci#L344-L355\n",
      "2023-11-23 17:14:00.186387: I tensorflow/compiler/xla/stream_executor/cuda/cuda_gpu_executor.cc:894] successful NUMA node read from SysFS had negative value (-1), but there must be at least one NUMA node, so returning NUMA node zero. See more at https://github.com/torvalds/linux/blob/v6.0/Documentation/ABI/testing/sysfs-bus-pci#L344-L355\n",
      "2023-11-23 17:14:00.186474: I tensorflow/compiler/xla/stream_executor/cuda/cuda_gpu_executor.cc:894] successful NUMA node read from SysFS had negative value (-1), but there must be at least one NUMA node, so returning NUMA node zero. See more at https://github.com/torvalds/linux/blob/v6.0/Documentation/ABI/testing/sysfs-bus-pci#L344-L355\n",
      "2023-11-23 17:14:00.186533: I tensorflow/compiler/xla/stream_executor/cuda/cuda_gpu_executor.cc:894] successful NUMA node read from SysFS had negative value (-1), but there must be at least one NUMA node, so returning NUMA node zero. See more at https://github.com/torvalds/linux/blob/v6.0/Documentation/ABI/testing/sysfs-bus-pci#L344-L355\n",
      "2023-11-23 17:14:00.186585: I tensorflow/compiler/xla/stream_executor/cuda/cuda_gpu_executor.cc:894] successful NUMA node read from SysFS had negative value (-1), but there must be at least one NUMA node, so returning NUMA node zero. See more at https://github.com/torvalds/linux/blob/v6.0/Documentation/ABI/testing/sysfs-bus-pci#L344-L355\n",
      "2023-11-23 17:14:00.186640: I tensorflow/compiler/xla/stream_executor/cuda/cuda_gpu_executor.cc:894] successful NUMA node read from SysFS had negative value (-1), but there must be at least one NUMA node, so returning NUMA node zero. See more at https://github.com/torvalds/linux/blob/v6.0/Documentation/ABI/testing/sysfs-bus-pci#L344-L355\n",
      "2023-11-23 17:14:00.186691: I tensorflow/core/common_runtime/gpu/gpu_device.cc:1886] Created device /job:localhost/replica:0/task:0/device:GPU:0 with 13848 MB memory:  -> device: 0, name: NVIDIA GeForce RTX 4080, pci bus id: 0000:01:00.0, compute capability: 8.9\n",
      "2023-11-23 17:14:00.186838: I tensorflow/compiler/xla/stream_executor/cuda/cuda_gpu_executor.cc:894] successful NUMA node read from SysFS had negative value (-1), but there must be at least one NUMA node, so returning NUMA node zero. See more at https://github.com/torvalds/linux/blob/v6.0/Documentation/ABI/testing/sysfs-bus-pci#L344-L355\n",
      "2023-11-23 17:14:00.186882: I tensorflow/core/common_runtime/gpu/gpu_device.cc:1886] Created device /job:localhost/replica:0/task:0/device:GPU:1 with 14290 MB memory:  -> device: 1, name: NVIDIA GeForce RTX 4080, pci bus id: 0000:02:00.0, compute capability: 8.9\n"
     ]
    }
   ],
   "source": [
    "# Define a simple sequential model\n",
    "def create_model():\n",
    "  model = tf.keras.Sequential([\n",
    "    keras.layers.Dense(512, activation='relu', input_shape=(784,)),\n",
    "    keras.layers.Dropout(0.2),\n",
    "    keras.layers.Dense(10)\n",
    "  ])\n",
    "\n",
    "  model.compile(optimizer='adam',\n",
    "                loss=tf.keras.losses.SparseCategoricalCrossentropy(from_logits=True),\n",
    "                metrics=[tf.keras.metrics.SparseCategoricalAccuracy()])\n",
    "\n",
    "  return model\n",
    "\n",
    "# Create a basic model instance\n",
    "model = create_model()\n",
    "\n",
    "# Display the model's architecture\n",
    "model.summary()"
   ]
  },
  {
   "cell_type": "markdown",
   "metadata": {
    "id": "soDE0W_KH8rG"
   },
   "source": [
    "## 在训练期间保存模型（以 checkpoints 形式保存）"
   ]
  },
  {
   "cell_type": "markdown",
   "metadata": {
    "id": "mRyd5qQQIXZm"
   },
   "source": [
    "您可以使用经过训练的模型而无需重新训练，或者在训练过程中断的情况下从离开处继续训练。`tf.keras.callbacks.ModelCheckpoint` 回调允许您在训练*期间*和*结束*时持续保存模型。\n",
    "\n",
    "### Checkpoint 回调用法\n",
    "\n",
    "创建一个只在训练期间保存权重的 `tf.keras.callbacks.ModelCheckpoint` 回调："
   ]
  },
  {
   "cell_type": "code",
   "execution_count": 4,
   "metadata": {
    "execution": {
     "iopub.execute_input": "2022-08-31T05:12:16.714716Z",
     "iopub.status.busy": "2022-08-31T05:12:16.714051Z",
     "iopub.status.idle": "2022-08-31T05:12:19.457312Z",
     "shell.execute_reply": "2022-08-31T05:12:19.456652Z"
    },
    "id": "IFPuhwntH8VH"
   },
   "outputs": [],
   "source": [
    "checkpoint_path = \"training_1/cp.ckpt\"\n",
    "checkpoint_dir = os.path.dirname(checkpoint_path)\n",
    "\n",
    "# Create a callback that saves the model's weights\n",
    "cp_callback = tf.keras.callbacks.ModelCheckpoint(filepath=checkpoint_path,\n",
    "                                                 save_weights_only=True,\n",
    "                                                 verbose=1)\n",
    "\n",
    "# Train the model with the new callback\n",
    "model.fit(train_images, \n",
    "          train_labels,  \n",
    "          epochs=10,\n",
    "          validation_data=(test_images, test_labels),\n",
    "          callbacks=[cp_callback])  # Pass callback to training\n",
    "\n",
    "# This may generate warnings related to saving the state of the optimizer.\n",
    "# These warnings (and similar warnings throughout this notebook)\n",
    "# are in place to discourage outdated usage, and can be ignored."
   ]
  },
  {
   "cell_type": "markdown",
   "metadata": {
    "id": "rlM-sgyJO084"
   },
   "source": [
    "这将创建一个 TensorFlow checkpoint 文件集合，这些文件在每个 epoch 结束时更新："
   ]
  },
  {
   "cell_type": "code",
   "execution_count": 5,
   "metadata": {
    "execution": {
     "iopub.execute_input": "2022-08-31T05:12:19.461419Z",
     "iopub.status.busy": "2022-08-31T05:12:19.460881Z",
     "iopub.status.idle": "2022-08-31T05:12:19.465745Z",
     "shell.execute_reply": "2022-08-31T05:12:19.465143Z"
    },
    "id": "gXG5FVKFOVQ3"
   },
   "outputs": [
    {
     "data": {
      "text/plain": [
       "['cp.ckpt.data-00000-of-00001', 'checkpoint', 'cp.ckpt.index']"
      ]
     },
     "execution_count": 5,
     "metadata": {},
     "output_type": "execute_result"
    }
   ],
   "source": [
    "os.listdir(checkpoint_dir)"
   ]
  },
  {
   "cell_type": "markdown",
   "metadata": {
    "id": "wlRN_f56Pqa9"
   },
   "source": [
    "只要两个模型共享相同的架构，您就可以在它们之间共享权重。因此，当从仅权重恢复模型时，创建一个与原始模型具有相同架构的模型，然后设置其权重。\n",
    "\n",
    "现在，重新构建一个未经训练的全新模型并基于测试集对其进行评估。未经训练的模型将以机会水平执行（约 10% 的准确率）："
   ]
  },
  {
   "cell_type": "code",
   "execution_count": 6,
   "metadata": {
    "execution": {
     "iopub.execute_input": "2022-08-31T05:12:19.469342Z",
     "iopub.status.busy": "2022-08-31T05:12:19.468857Z",
     "iopub.status.idle": "2022-08-31T05:12:19.697576Z",
     "shell.execute_reply": "2022-08-31T05:12:19.696817Z"
    },
    "id": "Fp5gbuiaPqCT"
   },
   "outputs": [
    {
     "name": "stdout",
     "output_type": "stream",
     "text": [
      "32/32 - 0s - loss: 2.3587 - sparse_categorical_accuracy: 0.0590 - 136ms/epoch - 4ms/step\n",
      "Untrained model, accuracy:  5.90%\n"
     ]
    }
   ],
   "source": [
    "# Create a basic model instance\n",
    "model = create_model()\n",
    "\n",
    "# Evaluate the model\n",
    "loss, acc = model.evaluate(test_images, test_labels, verbose=2)\n",
    "print(\"Untrained model, accuracy: {:5.2f}%\".format(100 * acc))"
   ]
  },
  {
   "cell_type": "markdown",
   "metadata": {
    "id": "1DTKpZssRSo3"
   },
   "source": [
    "然后从 checkpoint 加载权重并重新评估："
   ]
  },
  {
   "cell_type": "code",
   "execution_count": 8,
   "metadata": {
    "execution": {
     "iopub.execute_input": "2022-08-31T05:12:19.701701Z",
     "iopub.status.busy": "2022-08-31T05:12:19.701131Z",
     "iopub.status.idle": "2022-08-31T05:12:19.839161Z",
     "shell.execute_reply": "2022-08-31T05:12:19.838413Z"
    },
    "id": "2IZxbwiRRSD2"
   },
   "outputs": [
    {
     "name": "stdout",
     "output_type": "stream",
     "text": [
      "32/32 - 0s - loss: 0.4235 - sparse_categorical_accuracy: 0.8770 - 25ms/epoch - 787us/step\n",
      "Restored model, accuracy: 87.70%\n"
     ]
    }
   ],
   "source": [
    "# Loads the weights\n",
    "model.load_weights(checkpoint_path)\n",
    "\n",
    "# Re-evaluate the model\n",
    "loss, acc = model.evaluate(test_images, test_labels, verbose=2)\n",
    "print(\"Restored model, accuracy: {:5.2f}%\".format(100 * acc))"
   ]
  },
  {
   "cell_type": "code",
   "execution_count": 16,
   "metadata": {},
   "outputs": [
    {
     "name": "stdout",
     "output_type": "stream",
     "text": [
      "<class 'dict'>\n",
      "{'optimizer/_variables/8/.ATTRIBUTES/VARIABLE_VALUE': [10], 'optimizer/_variables/7/.ATTRIBUTES/VARIABLE_VALUE': [10], '_CHECKPOINTABLE_OBJECT_GRAPH': [], 'layer_with_weights-0/bias/.ATTRIBUTES/VARIABLE_VALUE': [512], 'optimizer/_iterations/.ATTRIBUTES/VARIABLE_VALUE': [], 'layer_with_weights-1/bias/.ATTRIBUTES/VARIABLE_VALUE': [10], 'optimizer/_learning_rate/.ATTRIBUTES/VARIABLE_VALUE': [], 'optimizer/_variables/1/.ATTRIBUTES/VARIABLE_VALUE': [784, 512], 'optimizer/_variables/2/.ATTRIBUTES/VARIABLE_VALUE': [784, 512], 'optimizer/_variables/6/.ATTRIBUTES/VARIABLE_VALUE': [512, 10], 'optimizer/_variables/3/.ATTRIBUTES/VARIABLE_VALUE': [512], 'optimizer/_variables/4/.ATTRIBUTES/VARIABLE_VALUE': [512], 'layer_with_weights-0/kernel/.ATTRIBUTES/VARIABLE_VALUE': [784, 512], 'layer_with_weights-1/kernel/.ATTRIBUTES/VARIABLE_VALUE': [512, 10], 'optimizer/_variables/5/.ATTRIBUTES/VARIABLE_VALUE': [512, 10]}\n",
      "tensor_name:  optimizer/_variables/8/.ATTRIBUTES/VARIABLE_VALUE\n",
      "[4.2478579e-05 6.3711392e-05 1.0351560e-04 8.2874045e-05 9.5302465e-05\n",
      " 1.0423877e-04 5.5745601e-05 8.9795132e-05 9.4593102e-05 1.3522706e-04]\n",
      "tensor_name:  optimizer/_variables/7/.ATTRIBUTES/VARIABLE_VALUE\n",
      "[ 9.2927577e-05  4.0920707e-04 -3.7802325e-05 -2.4298400e-04\n",
      " -2.8523963e-04  5.1378709e-04 -6.6961431e-05  3.2567413e-04\n",
      " -5.1185646e-04 -1.9675263e-04]\n",
      "tensor_name:  _CHECKPOINTABLE_OBJECT_GRAPH\n",
      "b'\\n\\xb4\\x01\\n\\x18\\x08\\x01\\x12\\x14layer_with_weights-0\\n\\x0b\\x08\\x01\\x12\\x07layer-0\\n\\x0b\\x08\\x02\\x12\\x07layer-1\\n\\x18\\x08\\x03\\x12\\x14layer_with_weights-1\\n\\x0b\\x08\\x03\\x12\\x07layer-2\\n\\r\\x08\\x04\\x12\\toptimizer\\n\\x11\\x08\\x05\\x12\\rtest_function\\n\\x15\\x08\\x06\\x12\\x11train_tf_function\\n\\x12\\x08\\x06\\x12\\x0etrain_function\\n\\x06\\x12\\x04root*\\x02\\x08\\x01\\n\\x1a\\n\\n\\x08\\x07\\x12\\x06kernel\\n\\x08\\x08\\x08\\x12\\x04bias*\\x02\\x08\\x01\\n\\x02*\\x00\\n\\x1a\\n\\n\\x08\\t\\x12\\x06kernel\\n\\x08\\x08\\n\\x12\\x04bias*\\x02\\x08\\x01\\nk\\n\\x0e\\x08\\x0b\\x12\\n_variables\\n\\x0f\\x08\\x0c\\x12\\x0b_iterations\\n\\x12\\x08\\r\\x12\\x0e_learning_rate\\n\\x0f\\x08\\x0e\\x12\\x0b_index_dict\\n\\x0e\\x08\\x0f\\x12\\n_momentums\\n\\x0f\\x08\\x10\\x12\\x0b_velocities*\\x02\\x08\\x01\\n\\x02*\\x00\\n\\x02*\\x00\\n_\\x12Y\\n\\x0eVARIABLE_VALUE\\x12\\x0fdense_12/kernel\\x1a6layer_with_weights-0/kernel/.ATTRIBUTES/VARIABLE_VALUE*\\x02\\x08\\x01\\n[\\x12U\\n\\x0eVARIABLE_VALUE\\x12\\rdense_12/bias\\x1a4layer_with_weights-0/bias/.ATTRIBUTES/VARIABLE_VALUE*\\x02\\x08\\x01\\n_\\x12Y\\n\\x0eVARIABLE_VALUE\\x12\\x0fdense_13/kernel\\x1a6layer_with_weights-1/kernel/.ATTRIBUTES/VARIABLE_VALUE*\\x02\\x08\\x01\\n[\\x12U\\n\\x0eVARIABLE_VALUE\\x12\\rdense_13/bias\\x1a4layer_with_weights-1/bias/.ATTRIBUTES/VARIABLE_VALUE*\\x02\\x08\\x01\\nC\\n\\x05\\x08\\x0c\\x12\\x010\\n\\x05\\x08\\x11\\x12\\x011\\n\\x05\\x08\\x12\\x12\\x012\\n\\x05\\x08\\x13\\x12\\x013\\n\\x05\\x08\\x14\\x12\\x014\\n\\x05\\x08\\x15\\x12\\x015\\n\\x05\\x08\\x16\\x12\\x016\\n\\x05\\x08\\x17\\x12\\x017\\n\\x05\\x08\\x18\\x12\\x018*\\x02\\x08\\x01\\nS\\x12M\\n\\x0eVARIABLE_VALUE\\x12\\titeration\\x1a0optimizer/_iterations/.ATTRIBUTES/VARIABLE_VALUE*\\x02\\x08\\x01\\nZ\\x12T\\n\\x0eVARIABLE_VALUE\\x12\\rlearning_rate\\x1a3optimizer/_learning_rate/.ATTRIBUTES/VARIABLE_VALUE*\\x02\\x08\\x01\\n\\x02*\\x00\\n \\n\\x05\\x08\\x11\\x12\\x010\\n\\x05\\x08\\x13\\x12\\x011\\n\\x05\\x08\\x15\\x12\\x012\\n\\x05\\x08\\x17\\x12\\x013*\\x02\\x08\\x01\\n \\n\\x05\\x08\\x12\\x12\\x010\\n\\x05\\x08\\x14\\x12\\x011\\n\\x05\\x08\\x16\\x12\\x012\\n\\x05\\x08\\x18\\x12\\x013*\\x02\\x08\\x01\\na\\x12[\\n\\x0eVARIABLE_VALUE\\x12\\x16Adam/m/dense_12/kernel\\x1a1optimizer/_variables/1/.ATTRIBUTES/VARIABLE_VALUE*\\x02\\x08\\x01\\na\\x12[\\n\\x0eVARIABLE_VALUE\\x12\\x16Adam/v/dense_12/kernel\\x1a1optimizer/_variables/2/.ATTRIBUTES/VARIABLE_VALUE*\\x02\\x08\\x01\\n_\\x12Y\\n\\x0eVARIABLE_VALUE\\x12\\x14Adam/m/dense_12/bias\\x1a1optimizer/_variables/3/.ATTRIBUTES/VARIABLE_VALUE*\\x02\\x08\\x01\\n_\\x12Y\\n\\x0eVARIABLE_VALUE\\x12\\x14Adam/v/dense_12/bias\\x1a1optimizer/_variables/4/.ATTRIBUTES/VARIABLE_VALUE*\\x02\\x08\\x01\\na\\x12[\\n\\x0eVARIABLE_VALUE\\x12\\x16Adam/m/dense_13/kernel\\x1a1optimizer/_variables/5/.ATTRIBUTES/VARIABLE_VALUE*\\x02\\x08\\x01\\na\\x12[\\n\\x0eVARIABLE_VALUE\\x12\\x16Adam/v/dense_13/kernel\\x1a1optimizer/_variables/6/.ATTRIBUTES/VARIABLE_VALUE*\\x02\\x08\\x01\\n_\\x12Y\\n\\x0eVARIABLE_VALUE\\x12\\x14Adam/m/dense_13/bias\\x1a1optimizer/_variables/7/.ATTRIBUTES/VARIABLE_VALUE*\\x02\\x08\\x01\\n_\\x12Y\\n\\x0eVARIABLE_VALUE\\x12\\x14Adam/v/dense_13/bias\\x1a1optimizer/_variables/8/.ATTRIBUTES/VARIABLE_VALUE*\\x02\\x08\\x01'\n",
      "tensor_name:  layer_with_weights-0/bias/.ATTRIBUTES/VARIABLE_VALUE\n",
      "[-2.19444595e-02 -2.31208485e-02  4.26340662e-03 -1.06515689e-03\n",
      "  2.68130694e-02 -7.48522673e-03 -1.79084782e-02  8.40928219e-03\n",
      "  6.92080753e-03  1.61761772e-02  1.01724053e-02  2.32328512e-02\n",
      "  2.18377565e-03  4.21825722e-02  1.72308972e-03 -2.66907606e-02\n",
      " -1.46704800e-02  2.21916214e-02  4.37810831e-03  1.55192139e-02\n",
      "  1.23628126e-02  1.61967669e-02  1.38933370e-02  9.02287476e-03\n",
      "  8.00795015e-03 -6.53226627e-03  4.62706480e-03  8.48040171e-03\n",
      "  1.78524200e-02  2.25071944e-02  1.19767068e-02  2.84041408e-02\n",
      "  3.49494591e-02  1.31732435e-03  1.49398856e-02 -9.18252487e-03\n",
      "  2.37477925e-02  3.93471448e-03  2.99748294e-02  3.26843746e-02\n",
      "  9.04770102e-03 -1.85614321e-02 -1.02381427e-02  1.28112109e-02\n",
      " -7.79488636e-03  1.64672062e-02  2.59349328e-02  2.79877745e-02\n",
      "  7.93086644e-03  1.53412297e-02  1.36641702e-02 -1.47358254e-02\n",
      "  4.72234515e-03  3.47224041e-03  3.24629657e-02  7.46049033e-03\n",
      "  5.18697090e-02 -1.97170000e-03  1.31999338e-02  3.04646487e-03\n",
      "  3.92537452e-02  3.75610366e-02  8.05074535e-03  3.66399735e-02\n",
      "  4.93288413e-03  9.36896261e-03  1.22235380e-02 -1.62050370e-02\n",
      "  8.32149014e-03 -1.30239502e-02  1.95653066e-02  1.74272489e-02\n",
      "  8.72777589e-03  1.85050629e-02  2.26329789e-02  3.74715440e-02\n",
      "  1.47821140e-02  3.07032056e-02 -9.21204779e-03 -1.90163013e-02\n",
      "  1.32169714e-02  7.75209535e-03  9.56711639e-03 -1.50379241e-02\n",
      "  1.99303776e-02 -2.95662554e-03  3.21295373e-02  9.78868455e-03\n",
      " -6.74528815e-03 -7.93699548e-03 -5.48305782e-03  9.61353257e-03\n",
      " -5.32293692e-03  9.85873304e-03 -3.49227019e-04  2.61756722e-02\n",
      "  1.97071750e-02  1.02990018e-02  1.75148565e-02  3.37638669e-02\n",
      "  4.89146076e-03  1.73451453e-02  1.38384122e-02  2.09443811e-02\n",
      " -5.57463383e-03  8.02862085e-03 -3.72446724e-03 -5.27433259e-03\n",
      " -1.26679242e-02  3.20627205e-02  2.24835370e-02  1.90612897e-02\n",
      " -7.38446601e-03 -5.37057582e-04 -7.94412568e-03  2.57973634e-02\n",
      "  1.54796122e-02  2.93097962e-02 -5.74555155e-03  2.27587204e-03\n",
      "  1.55683784e-02  2.99890060e-02 -1.03920270e-02  3.54353804e-03\n",
      "  1.13864606e-02  1.46210957e-02  2.00786423e-02  1.98189374e-02\n",
      "  2.20072698e-02  9.22817364e-03  1.01073328e-02  3.31868231e-02\n",
      "  2.55234521e-02  2.41599511e-02  1.20418705e-02 -9.66384728e-03\n",
      "  4.85414779e-03 -1.08800661e-02  1.33734392e-02  1.95504837e-02\n",
      "  3.35240215e-02  5.52744931e-03  1.11968303e-02 -1.19451089e-02\n",
      " -2.30563385e-03  8.84498749e-03  9.83771123e-03 -4.33837716e-03\n",
      "  1.60475653e-02  3.12375072e-02  7.05830567e-03  3.06594856e-02\n",
      "  2.44999900e-02 -1.70805417e-02  2.69039832e-02  2.20693834e-03\n",
      "  4.03765542e-03  6.45055762e-03  1.92835163e-02  2.75671016e-02\n",
      "  2.07939446e-02  1.04548931e-02 -1.16360048e-02  6.43810257e-03\n",
      "  1.28559573e-02  2.24221144e-02 -2.62853154e-03 -1.09939566e-02\n",
      "  6.79493649e-03  1.48461182e-02  1.45491371e-02  1.49676958e-02\n",
      "  1.15865162e-02  1.80792585e-02  2.09314330e-03  6.40155515e-03\n",
      "  1.52292820e-02  2.11456288e-02 -4.53010947e-03  1.50987576e-03\n",
      "  1.81642137e-02 -4.26773867e-03  7.59238238e-03  1.53310187e-02\n",
      "  1.27222929e-02  2.79052351e-02 -1.56819224e-02  3.42986882e-02\n",
      "  1.85032410e-03 -6.78401953e-03 -1.43504990e-02 -1.54331615e-02\n",
      "  1.47524476e-02  7.16872048e-03  4.36702557e-03  1.20949447e-02\n",
      "  1.50426403e-02 -1.64849814e-02  2.79881507e-02  3.29938419e-02\n",
      "  3.50906630e-03  2.03730445e-02  1.13614360e-02 -1.47023303e-02\n",
      " -3.10893659e-03  2.38904171e-03  2.42221467e-02  2.30603106e-02\n",
      "  1.98300113e-03  3.50949615e-02  2.41644960e-03 -1.20017922e-03\n",
      "  8.38041585e-03  3.01312306e-03 -8.19831993e-03  3.40818823e-03\n",
      "  1.13155264e-02 -2.90291850e-03 -6.33373111e-03 -1.38787990e-02\n",
      "  3.65841028e-04  3.71855944e-02  4.01842827e-03  2.38103960e-02\n",
      " -1.76610816e-02  1.48918461e-02  3.92590016e-02  2.10143737e-02\n",
      "  1.46913640e-02 -5.16473781e-03 -1.36226341e-02 -9.65828821e-03\n",
      " -1.14564272e-02  2.77034659e-02  2.80944649e-02  1.69965774e-02\n",
      " -5.34291205e-04  1.72718335e-02  1.32993078e-02  5.33627160e-03\n",
      "  1.77738611e-02  3.90458084e-03  2.19888184e-02  3.19690332e-02\n",
      " -1.04063656e-02  1.17002800e-02  6.52078260e-03  1.21423975e-02\n",
      "  1.53040905e-02 -2.01337086e-03 -1.23372106e-02  1.90008953e-02\n",
      "  3.30029093e-02  3.25230248e-02  1.88345164e-02  6.97105378e-03\n",
      "  1.08787259e-02  1.53358830e-02  2.27198172e-02  1.26163326e-02\n",
      " -1.20169120e-02  2.96175797e-02  7.22806342e-03 -3.10394894e-02\n",
      "  7.22473394e-03 -2.92869564e-03 -4.92020184e-03  1.49122644e-02\n",
      "  1.61345825e-02  1.17827812e-02 -1.85781214e-02  2.23047547e-02\n",
      "  1.16271591e-02 -1.53500400e-02  1.61144808e-02  1.07116031e-03\n",
      "  1.87137481e-02  4.06986959e-02  1.77194644e-02  2.29009334e-02\n",
      "  2.41362564e-02  3.11070378e-03  1.63997915e-02  1.05001237e-02\n",
      "  4.30652872e-03 -7.30515970e-03  2.88819838e-02  7.11747119e-03\n",
      "  1.04592247e-02  1.49404528e-04  2.31616944e-02  2.58059427e-03\n",
      "  9.27074067e-03  2.43550427e-02  4.36317921e-03  1.36295557e-02\n",
      "  2.22349949e-02  1.44327004e-02 -6.59964932e-03  9.33361053e-03\n",
      "  3.54022570e-02  6.00158097e-03  1.29461354e-02 -1.22258468e-02\n",
      "  5.89809986e-03  8.14234558e-03 -2.38606968e-04 -8.11638590e-03\n",
      "  2.77583394e-03 -4.89064166e-03 -6.34183688e-03  1.96648464e-02\n",
      "  3.55920605e-02  3.05835553e-03  1.59379486e-02 -3.06935934e-03\n",
      " -2.33618566e-03  1.27508463e-02  2.00732816e-02  1.11868251e-02\n",
      "  1.53045692e-02  1.36162937e-02  1.91829838e-02  6.01093192e-03\n",
      "  1.97199881e-02 -4.57249465e-04  9.99117177e-03  2.22893525e-02\n",
      "  3.06638307e-04  3.35928202e-02  2.16552056e-02  1.99695863e-02\n",
      "  2.85660885e-02  3.87084633e-02 -5.06322645e-03  2.30464805e-02\n",
      "  8.80034082e-03  1.91133078e-02 -4.00957046e-03 -5.03214123e-03\n",
      "  3.64083308e-03  2.45953556e-02  5.70313632e-03  2.85017136e-02\n",
      "  1.18195182e-02  1.04387300e-02 -6.57197926e-03  1.83114298e-02\n",
      "  5.44287497e-03  1.68288443e-02  1.81017350e-02  1.86123308e-02\n",
      "  1.94929615e-02 -1.13862632e-02  2.82106437e-02 -9.42306221e-03\n",
      "  1.82806719e-02 -9.25761461e-03  1.71404909e-02 -2.27969754e-02\n",
      "  2.38320325e-02  1.12145320e-02  9.53781232e-03  2.53948197e-02\n",
      "  1.90831181e-02  9.94066056e-03 -4.15526656e-03  9.82232299e-03\n",
      " -1.97243434e-03  2.15843190e-02  2.78315023e-02  8.89329240e-03\n",
      " -8.91462527e-03 -3.86219146e-03  1.51227266e-02 -6.11382117e-03\n",
      "  3.36235054e-02  1.42649142e-02 -5.17911324e-03  1.88136776e-03\n",
      " -2.30545108e-03  1.18831955e-02 -7.55277695e-03  1.87800650e-03\n",
      " -2.53151334e-03 -5.73611585e-03  3.86123359e-02  6.03284454e-03\n",
      "  1.34406460e-03 -1.89978704e-02 -1.55408471e-03  2.30529122e-02\n",
      "  3.24906744e-02 -1.09828934e-02  2.64521204e-02  8.89678672e-03\n",
      "  2.77465750e-02  2.25961078e-02  1.01562347e-02 -8.27005075e-04\n",
      " -1.08652876e-03 -8.12980626e-03 -1.35404314e-03  2.69422904e-02\n",
      " -3.85380728e-04 -4.76813409e-03 -9.28991474e-03  9.23973322e-03\n",
      " -1.75768102e-04  2.40290314e-02  1.95796303e-02  1.56910922e-02\n",
      "  1.11460788e-02  6.09125243e-03  1.13867631e-04  7.68697122e-03\n",
      "  2.31078546e-02 -1.23093398e-02  3.06611694e-02  1.54000614e-02\n",
      " -4.78239323e-04  1.92354769e-02  1.23934541e-02  2.67752130e-02\n",
      "  1.99443810e-02 -1.88906156e-02  1.14245331e-02  1.76674537e-02\n",
      "  1.64514631e-02 -3.37924273e-03  1.03994189e-02 -1.97242177e-03\n",
      "  7.25935539e-03  4.98731341e-03  2.67528612e-02  5.49610239e-03\n",
      "  2.30515841e-02 -5.57607527e-05  1.01475427e-02  1.42935226e-02\n",
      " -1.43340714e-02 -5.36909793e-03  1.28787905e-02  1.52043942e-02\n",
      "  1.67919789e-02 -6.02835929e-03  1.27331438e-02  3.18358168e-02\n",
      " -7.40430923e-03  3.71229812e-03 -3.53142805e-03  1.34023307e-02\n",
      "  3.55306757e-03 -1.55098513e-02 -1.85577348e-02  1.72005855e-02\n",
      "  1.37817031e-02 -2.44092755e-03  1.56459883e-02 -7.97120854e-03\n",
      "  6.15902338e-03 -2.56817183e-03 -4.44592442e-03  1.20592425e-02\n",
      "  2.21743472e-02 -6.48281584e-03 -2.34801453e-02  8.87265708e-03\n",
      " -1.94459558e-02  1.27310529e-02 -5.99919399e-03  2.02771369e-02\n",
      "  2.99735777e-02 -2.33113579e-03  1.61094703e-02  2.52849758e-02\n",
      "  4.34137182e-03 -5.71456319e-03  3.36900987e-02 -1.06529966e-04\n",
      "  4.02624160e-02  2.83852778e-02 -1.88838458e-04  1.26443570e-02\n",
      "  8.94903298e-03  1.69280190e-02  1.02299582e-02  4.26155701e-03\n",
      "  2.29602936e-03  7.00027356e-03  1.44188227e-02 -4.97455825e-04\n",
      "  1.59212518e-02  1.80449151e-02 -1.64894126e-02  8.61968100e-03\n",
      "  1.86957524e-03 -1.94449127e-02  1.78189930e-02 -7.05012353e-03\n",
      "  4.02610265e-02  6.26072660e-03  3.33909094e-02  1.95379723e-02\n",
      "  6.69704331e-03  1.02608372e-02  2.64298208e-02  2.40037628e-02\n",
      " -1.30654499e-02  8.88002757e-03  9.16545372e-03  2.88477838e-02]\n",
      "tensor_name:  optimizer/_iterations/.ATTRIBUTES/VARIABLE_VALUE\n",
      "640\n",
      "tensor_name:  layer_with_weights-1/bias/.ATTRIBUTES/VARIABLE_VALUE\n",
      "[-0.01980438  0.01591696 -0.0026153  -0.00720964  0.00307354  0.00993811\n",
      "  0.00307127  0.01228369 -0.02143158 -0.00210675]\n",
      "tensor_name:  optimizer/_learning_rate/.ATTRIBUTES/VARIABLE_VALUE\n",
      "0.001\n",
      "tensor_name:  optimizer/_variables/1/.ATTRIBUTES/VARIABLE_VALUE\n",
      "[[0. 0. 0. ... 0. 0. 0.]\n",
      " [0. 0. 0. ... 0. 0. 0.]\n",
      " [0. 0. 0. ... 0. 0. 0.]\n",
      " ...\n",
      " [0. 0. 0. ... 0. 0. 0.]\n",
      " [0. 0. 0. ... 0. 0. 0.]\n",
      " [0. 0. 0. ... 0. 0. 0.]]\n",
      "tensor_name:  optimizer/_variables/2/.ATTRIBUTES/VARIABLE_VALUE\n",
      "[[0. 0. 0. ... 0. 0. 0.]\n",
      " [0. 0. 0. ... 0. 0. 0.]\n",
      " [0. 0. 0. ... 0. 0. 0.]\n",
      " ...\n",
      " [0. 0. 0. ... 0. 0. 0.]\n",
      " [0. 0. 0. ... 0. 0. 0.]\n",
      " [0. 0. 0. ... 0. 0. 0.]]\n",
      "tensor_name:  optimizer/_variables/6/.ATTRIBUTES/VARIABLE_VALUE\n",
      "[[2.28477984e-05 2.23549341e-05 3.32971977e-05 ... 8.60473574e-06\n",
      "  6.34024764e-05 2.67701562e-05]\n",
      " [3.42793851e-06 2.80173717e-05 3.07163609e-05 ... 1.86226207e-05\n",
      "  4.98325971e-05 1.18140133e-05]\n",
      " [2.38454886e-05 3.30339353e-05 3.79242119e-05 ... 7.71281066e-06\n",
      "  8.60978180e-05 2.62251997e-05]\n",
      " ...\n",
      " [9.46962427e-06 3.03707875e-05 2.71611752e-05 ... 1.35814835e-05\n",
      "  7.00652236e-05 2.60049492e-05]\n",
      " [5.36703737e-05 8.30678164e-06 4.68770995e-05 ... 1.01392770e-05\n",
      "  3.21356492e-05 4.41685515e-05]\n",
      " [5.14885642e-06 5.29424869e-06 1.23853279e-05 ... 1.12260359e-05\n",
      "  5.43814076e-06 2.01680814e-05]]\n",
      "tensor_name:  optimizer/_variables/3/.ATTRIBUTES/VARIABLE_VALUE\n",
      "[-1.07533291e-04 -9.01880048e-05  3.32215641e-05  1.91990621e-05\n",
      "  1.04004757e-04  5.96732134e-05  4.86321624e-05  8.72891542e-05\n",
      " -5.03017145e-05  4.32263987e-05  9.06988862e-05  4.65503072e-05\n",
      "  2.56374847e-06  2.25848271e-04  3.52991010e-05 -2.91519445e-05\n",
      " -1.31047236e-05  6.73075119e-05 -1.13971066e-04  7.74596556e-05\n",
      " -7.53072745e-05 -4.73292712e-05 -4.33783225e-06  5.37220076e-05\n",
      "  4.51119922e-06 -1.02284670e-04  2.85666920e-05  4.51202650e-05\n",
      " -3.30218609e-05  1.65816906e-04  8.68017305e-05 -6.70700974e-05\n",
      " -1.71713546e-05  1.04447427e-04 -7.07107611e-05 -7.45076904e-05\n",
      " -7.55798173e-05 -4.26538281e-06  1.28539716e-04  3.50082919e-05\n",
      "  8.11570062e-05 -1.34612696e-04 -1.64986806e-04  1.19322620e-04\n",
      " -7.85903467e-06 -6.52174931e-05 -9.58065139e-05  6.50254660e-05\n",
      " -8.22384754e-05  2.39209239e-05  1.94265358e-05 -1.21272664e-04\n",
      " -5.77609790e-05  2.86535123e-06 -5.86590613e-05  4.84602278e-05\n",
      " -6.15003082e-05 -1.50920270e-04  7.22711920e-05 -6.26357505e-05\n",
      "  2.82507535e-05  2.45076080e-05  2.72999896e-05  3.33121934e-05\n",
      "  1.04256273e-04 -2.00352624e-05  1.44191217e-05 -1.19830165e-05\n",
      "  1.46444741e-04 -2.08736587e-04  3.35759069e-05  8.88378963e-07\n",
      "  3.84759805e-05  1.09516623e-05  4.57010538e-05  1.20935561e-04\n",
      "  7.28546220e-05  1.56085880e-05 -3.42249074e-08 -1.33487949e-04\n",
      " -6.69907095e-05  9.96936578e-05 -6.31609437e-05  3.48142253e-32\n",
      " -3.53288924e-05 -8.28035409e-05  1.16437099e-04  6.31710427e-05\n",
      " -1.07023938e-04 -9.46042746e-07  4.72459215e-05 -4.80562740e-05\n",
      "  8.03259536e-05  1.66645768e-04  3.58849720e-05 -3.48672875e-05\n",
      "  3.51004310e-05  5.42392081e-06  1.04170140e-04  6.38066849e-05\n",
      "  5.98431907e-05 -1.33926524e-05 -4.61820600e-05  4.47885759e-05\n",
      "  6.46330864e-06  8.91453092e-05 -6.68121647e-05  1.66091922e-06\n",
      " -5.95178935e-05  4.21006698e-05  1.59488045e-05 -2.64254086e-05\n",
      "  9.46295131e-06  1.34098191e-05 -1.69984341e-05  1.80589795e-05\n",
      "  8.65176116e-05 -3.77335527e-06 -2.56666244e-05 -5.17323278e-05\n",
      " -1.96176625e-05  3.11156473e-05 -8.97659265e-05 -7.10055247e-05\n",
      "  1.07398228e-04 -7.15306815e-05  1.34920178e-04 -9.56680087e-05\n",
      "  6.64738909e-05  9.57513475e-06 -1.28134780e-05  5.91975004e-06\n",
      "  5.12652732e-05 -1.02488884e-04 -7.21277975e-05 -3.64072075e-05\n",
      "  3.66990680e-05  8.96016791e-05 -9.54130737e-05  6.94603586e-05\n",
      "  1.83523516e-05 -8.55323378e-05  7.66999437e-06 -1.79634590e-04\n",
      " -1.01643469e-04  5.21958755e-05  5.69663971e-05 -7.39953466e-05\n",
      "  2.95505743e-05 -5.77472929e-06 -5.34723540e-06 -3.35433579e-05\n",
      " -4.30487162e-05 -2.61564099e-04  3.84026953e-06  4.11386063e-05\n",
      "  1.75996960e-04 -9.98370961e-05 -9.78621756e-05 -2.45999945e-05\n",
      " -1.48749632e-05  5.95240745e-05  1.01336238e-32 -1.48776060e-04\n",
      " -9.89277578e-06  3.60275262e-05 -1.76015219e-05 -1.78781513e-04\n",
      "  5.14030871e-05 -1.81109608e-05 -2.46783493e-05  8.41474684e-05\n",
      "  4.10881185e-05 -5.64603761e-05  5.40478068e-05 -4.25411563e-05\n",
      "  1.36972812e-04  3.60094164e-05 -1.96623077e-05  6.05917630e-05\n",
      "  5.85291345e-05 -7.43723576e-05 -8.12999860e-05  4.06147738e-05\n",
      " -5.19727037e-05 -7.99012123e-05 -5.41239970e-05 -3.83775259e-05\n",
      " -7.46444566e-05 -2.29489524e-06 -1.91351301e-05  2.40896898e-05\n",
      " -9.27537076e-06 -1.51699147e-04  7.27821462e-05 -4.79446101e-07\n",
      "  6.41035731e-05 -1.12038513e-04 -8.44605529e-05 -1.84125965e-05\n",
      " -9.72559501e-05 -6.92250615e-06  5.82859720e-05  1.02964868e-05\n",
      " -4.83759322e-06  6.14745950e-05  1.63634802e-04 -1.12588259e-05\n",
      " -9.31624309e-05  1.16633237e-04 -1.10069850e-05 -6.24443128e-05\n",
      " -6.57476921e-05 -7.69135804e-05 -1.16544077e-04  6.77749413e-05\n",
      "  1.62101660e-05 -6.42133818e-05 -1.40252043e-04  1.17480467e-05\n",
      " -1.25847495e-04 -1.11841633e-04 -1.03562954e-04  7.49220126e-05\n",
      " -1.09594395e-04  5.76216189e-05  4.30593427e-05  3.29833347e-05\n",
      "  6.60872611e-05 -7.52975320e-05  3.72755603e-05  3.97406046e-32\n",
      " -1.16043564e-04 -1.04924082e-04  8.68677816e-05 -1.16979918e-05\n",
      " -5.09806669e-05  1.49541129e-05 -1.44739955e-04 -3.26971167e-05\n",
      " -2.04388962e-05 -9.57365264e-05 -5.34406572e-05  2.84148427e-05\n",
      " -1.91253639e-04  1.77468355e-05  8.28809971e-06  1.15002094e-05\n",
      " -2.54293946e-06 -4.87026191e-05 -6.73304967e-05 -2.62619196e-05\n",
      " -3.24736429e-05  2.80779350e-05 -5.62328787e-05 -9.33587726e-05\n",
      " -1.07345313e-05  2.44624825e-05 -1.05628031e-04 -1.31430133e-04\n",
      "  1.03948696e-04  4.51303777e-06  5.01946670e-06 -9.05919078e-05\n",
      "  2.09017653e-05 -2.07204794e-05 -4.57892293e-06  5.49475271e-06\n",
      "  1.98053931e-05  4.51230517e-05 -9.29043454e-05  1.24771701e-04\n",
      " -5.36576044e-05 -6.17167416e-06 -5.46106821e-05  1.12384441e-04\n",
      "  1.89651473e-04  1.66793776e-04  8.68770512e-05  1.52391614e-04\n",
      " -1.08905260e-05 -4.79144292e-05 -3.30848052e-05  2.33745541e-05\n",
      "  3.23269569e-06 -1.98468188e-04  2.78915686e-04 -8.78449573e-05\n",
      " -5.02192779e-05 -5.52030433e-05 -3.52903189e-05 -3.63523650e-05\n",
      " -1.14900540e-05  4.29973406e-05  4.82953874e-05  1.40498989e-04\n",
      "  1.29915192e-04  3.93188384e-05 -1.68833158e-05  9.84602593e-07\n",
      " -2.92473505e-05  1.33653111e-05 -5.26275726e-05  1.22584943e-05\n",
      "  1.37177758e-05  8.03828298e-05 -7.47853192e-05 -1.15415052e-04\n",
      "  2.65010058e-05 -1.41513752e-04 -1.54116333e-05  5.48074931e-05\n",
      " -2.13314161e-06  7.79700349e-05  2.20053844e-04 -2.24469259e-05\n",
      " -6.49869762e-05  1.60585587e-05  1.44181438e-04  7.90087652e-05\n",
      "  8.84711990e-05 -6.71540329e-05  2.29453708e-05 -3.60143022e-05\n",
      "  3.36709381e-05 -8.79585423e-05 -9.74440409e-05  1.28023439e-05\n",
      "  6.40528669e-05  1.32888264e-04 -9.87368039e-05  5.59249711e-05\n",
      " -2.65238978e-05  7.78411923e-05 -1.06952364e-04 -1.41534925e-04\n",
      "  8.18418630e-05 -1.10633540e-04 -2.13025123e-06 -1.39098556e-04\n",
      " -2.82901929e-05  1.33041554e-04 -7.76986635e-05  6.51819864e-05\n",
      " -2.20630318e-05  4.03642207e-06 -2.47068994e-04  2.98165560e-05\n",
      " -1.11418012e-04  6.78449869e-05 -1.19432798e-07 -2.16257013e-05\n",
      " -2.93836183e-06  6.95896779e-06  1.72308755e-05 -9.68224340e-05\n",
      "  2.66282204e-05  1.12665168e-32  1.07222122e-05 -1.36425166e-04\n",
      " -2.57405991e-05 -5.47651580e-05 -3.82125581e-05  3.98664524e-05\n",
      "  4.48925766e-06  1.11400783e-04  2.12804443e-05  3.45305161e-05\n",
      " -5.59234468e-05 -1.03166625e-04 -1.11574140e-04  2.35221742e-05\n",
      " -6.03218796e-05  5.86779061e-05  2.30266005e-06 -4.73022055e-06\n",
      "  5.88000403e-05  4.25224243e-05 -1.60248266e-04  1.28064039e-06\n",
      " -1.49015807e-06  4.63271135e-05 -3.79778467e-05  1.22998699e-05\n",
      " -4.02561818e-06 -4.79728878e-05 -1.78370938e-05 -1.97088029e-05\n",
      "  5.93442383e-05 -4.64360055e-05 -1.79265589e-05 -2.02154260e-04\n",
      "  1.73761327e-05 -1.68304803e-04 -9.38270932e-06  9.03533873e-05\n",
      " -2.82966066e-05 -4.81247007e-05  6.77741191e-05 -1.26620886e-04\n",
      " -7.93337604e-05 -1.23063437e-04 -4.99529633e-05 -4.42904275e-05\n",
      " -7.92394057e-05 -9.79081888e-05  2.69665652e-05  8.17619439e-05\n",
      " -1.31340683e-04 -1.35447581e-05  6.01429274e-05  4.22602279e-05\n",
      " -1.38366231e-04  6.52008748e-06 -1.20246834e-04  1.02452505e-05\n",
      "  1.77793932e-04  2.44916305e-32  1.16690288e-04  8.36007093e-05\n",
      "  3.78584991e-06 -1.04968945e-04 -7.37297669e-05 -2.11871229e-05\n",
      " -3.75314848e-05  6.96402058e-05  2.37579661e-05 -1.82093827e-05\n",
      "  2.21686234e-04 -2.35528569e-05 -1.48634310e-04  1.35416645e-04\n",
      "  1.80141869e-05  2.73053047e-06  2.79156411e-05 -1.24577900e-05\n",
      "  1.77806578e-06  1.00316887e-04 -1.12210037e-05  8.50733850e-05\n",
      " -9.92132045e-05 -1.19000077e-04  2.24356827e-05  5.15797583e-05\n",
      "  6.92996764e-06 -1.39603348e-04 -7.32134358e-05  6.66500200e-05\n",
      " -6.62721577e-05 -3.67684588e-05 -9.81788326e-05 -5.94002449e-06\n",
      " -6.94215269e-05 -2.15490618e-05  1.79552426e-05  2.47627995e-05\n",
      "  3.03300330e-05  4.30881119e-05 -1.28502979e-05 -9.28350491e-05\n",
      "  3.59228216e-05 -3.69626105e-06  3.23109198e-05  1.84566707e-05\n",
      " -5.28119417e-05  4.02621736e-05 -1.85086770e-04 -2.32169386e-05\n",
      " -1.16264309e-04  4.58057002e-05  1.73866010e-33 -8.81161614e-05\n",
      "  3.79357225e-05 -6.14724850e-05  4.66071288e-06  1.31587905e-04\n",
      " -2.20724047e-04 -1.32733421e-05  3.25626461e-05 -8.51108052e-05\n",
      "  2.36331922e-04 -7.32283934e-06 -5.00605456e-05  9.14520351e-05\n",
      " -1.21335426e-04  1.15623425e-05  1.88410617e-04 -8.89338553e-05\n",
      " -2.69764223e-05  3.22025189e-05 -1.50373226e-05 -4.82732357e-05\n",
      "  1.04674320e-04  8.71113225e-05  4.38635325e-05 -4.90953644e-05\n",
      " -1.66927748e-05 -6.05874993e-05  1.79270373e-05 -1.57123341e-05\n",
      " -3.71110109e-05  1.28181819e-05  2.44096402e-04  8.70110489e-06\n",
      "  7.48757520e-05 -8.84336805e-06 -3.43296961e-07 -6.71696616e-05\n",
      " -2.22893374e-04  4.80770323e-05  6.65455227e-05  3.01959408e-05]\n",
      "tensor_name:  optimizer/_variables/4/.ATTRIBUTES/VARIABLE_VALUE\n",
      "[1.7392895e-06 2.8318025e-06 3.4446180e-06 1.8287121e-06 2.1126566e-06\n",
      " 3.0446047e-06 5.4005582e-06 5.4657216e-06 2.1274509e-06 4.0965137e-06\n",
      " 5.3462645e-06 3.4709819e-06 1.2036330e-06 1.4943416e-06 2.7058322e-06\n",
      " 1.2748158e-07 3.3908761e-06 4.4569420e-06 1.8275204e-06 2.6026678e-06\n",
      " 7.4072989e-07 3.2068654e-06 2.7811516e-06 3.4086529e-06 2.7396900e-06\n",
      " 3.9323027e-06 4.2863285e-06 3.2744019e-06 5.8940900e-06 3.2504320e-06\n",
      " 3.1209586e-06 6.7254740e-07 2.3915322e-06 2.9932437e-06 7.8457651e-07\n",
      " 2.2728123e-06 4.6623936e-06 3.9044830e-06 2.2481265e-06 1.9610382e-06\n",
      " 5.8362903e-06 3.6566794e-06 3.8212593e-06 4.0843893e-06 2.3571736e-06\n",
      " 7.4729815e-07 2.8614077e-06 2.0042646e-06 2.8296706e-06 3.6190952e-06\n",
      " 4.2314209e-06 3.0343494e-06 3.2133203e-06 2.5487814e-06 1.8763152e-06\n",
      " 2.3696416e-06 2.6476735e-06 4.4331032e-06 6.0155612e-06 1.2074291e-07\n",
      " 1.1207522e-06 2.4197282e-06 3.0789865e-06 2.1751562e-06 2.7050278e-06\n",
      " 2.9537803e-06 3.3823371e-06 4.6102036e-06 3.2843388e-06 3.2760493e-06\n",
      " 8.3143107e-07 2.6794078e-06 7.4913078e-06 2.6750222e-06 2.7511485e-06\n",
      " 2.6956982e-06 2.2627842e-06 2.5109186e-06 1.1840397e-07 5.6427389e-06\n",
      " 4.1946691e-06 1.6092624e-06 8.8734873e-07 1.1944780e-07 2.2923739e-06\n",
      " 1.4450061e-06 2.7748365e-06 4.3764580e-06 3.7441469e-06 3.9070341e-07\n",
      " 3.2511234e-06 1.6822079e-06 1.9497438e-06 2.1932588e-06 3.1807097e-06\n",
      " 3.7265443e-07 5.7541624e-06 2.8044674e-06 2.8882644e-06 4.4680792e-06\n",
      " 2.8729892e-06 3.4732957e-07 2.3371433e-06 4.3272512e-06 1.0946249e-07\n",
      " 2.8959380e-06 3.3159893e-07 2.3479422e-06 1.9138620e-06 3.9553415e-06\n",
      " 1.9364329e-06 2.6282257e-06 3.6281131e-06 1.7689308e-07 1.0901584e-06\n",
      " 2.8962709e-06 3.2736618e-06 3.1008208e-06 2.1505389e-06 2.5242889e-06\n",
      " 1.5442890e-06 4.6269920e-06 5.2703390e-06 2.6162325e-06 3.2206458e-06\n",
      " 4.8987104e-06 2.8293316e-06 2.3673065e-06 2.3484083e-06 3.5443679e-06\n",
      " 2.3270629e-06 3.4587940e-06 1.5709529e-06 1.6785028e-06 3.2042642e-06\n",
      " 3.7646766e-06 4.1358044e-06 4.1333351e-06 9.3347506e-07 3.0598937e-06\n",
      " 1.1730626e-06 1.5023772e-06 4.5925135e-06 4.6244190e-06 2.1811802e-06\n",
      " 3.3849165e-06 1.6552495e-06 2.4228270e-06 1.7659452e-06 2.3994567e-06\n",
      " 1.3952662e-06 3.3858169e-06 1.5894300e-06 5.4158331e-06 1.8446018e-06\n",
      " 4.6366326e-06 5.2067588e-07 4.9832925e-06 3.8336484e-06 7.3447990e-07\n",
      " 2.8662218e-06 3.0407361e-06 2.7170822e-08 4.3040322e-06 2.6387709e-06\n",
      " 4.0114792e-06 2.6558305e-06 2.3307616e-06 3.4214563e-06 3.4803616e-06\n",
      " 3.2124160e-06 7.1239856e-07 3.7575851e-06 3.9440870e-06 2.9687217e-06\n",
      " 2.8409210e-07 4.3314685e-06 4.2604565e-06 3.0544629e-07 3.5283863e-06\n",
      " 2.9292610e-06 1.8841922e-06 3.0899118e-06 4.1252797e-06 4.1441155e-07\n",
      " 2.0628904e-06 4.8087800e-06 1.4878092e-06 4.7425765e-06 3.5536816e-06\n",
      " 2.7037286e-06 1.8099367e-06 3.2996384e-06 7.3087785e-06 2.2644906e-06\n",
      " 4.2637559e-08 3.9750739e-06 4.8740067e-06 4.0520208e-06 3.1544655e-06\n",
      " 1.8784282e-06 3.6494848e-06 7.1965121e-07 3.2513356e-06 5.8381052e-06\n",
      " 3.3898386e-06 5.3723643e-06 2.5632251e-06 5.1578359e-06 9.2946783e-07\n",
      " 1.6548406e-06 5.2131172e-06 3.6238159e-06 5.7338375e-06 1.2100488e-06\n",
      " 4.2602760e-06 4.8019133e-06 1.1040250e-06 1.7299855e-06 1.7545606e-06\n",
      " 4.3129862e-06 1.1925646e-06 3.9542583e-06 2.1916205e-06 5.7572629e-06\n",
      " 2.0620478e-06 2.9577418e-06 2.4824399e-06 1.6520046e-06 2.2776821e-06\n",
      " 6.4674265e-07 1.4752470e-07 4.8473585e-06 1.1102006e-06 1.4505126e-06\n",
      " 2.9093660e-06 1.5571363e-06 1.7867395e-06 4.0370282e-06 2.6704092e-06\n",
      " 1.8815435e-06 4.5915081e-06 3.9460583e-06 7.3305165e-07 3.0456947e-06\n",
      " 1.2313012e-06 4.9492273e-06 4.8303332e-06 2.8037728e-06 3.2852799e-06\n",
      " 2.9001587e-06 1.3986606e-06 2.6066989e-06 3.2689227e-06 1.4146589e-06\n",
      " 4.8009529e-06 1.1419197e-06 4.3710611e-06 1.2130421e-06 1.0663754e-06\n",
      " 4.4421899e-06 1.8209747e-06 7.3157089e-06 5.2441164e-06 6.7611546e-07\n",
      " 3.3158299e-06 3.6172423e-06 3.0872493e-06 3.5740616e-06 1.7886908e-06\n",
      " 1.3323775e-06 2.4761300e-06 2.2600673e-06 4.2977413e-06 5.1772436e-06\n",
      " 2.1596672e-06 2.1279436e-06 2.7079195e-06 2.8317424e-06 1.6745076e-06\n",
      " 2.1346953e-06 1.3863940e-06 3.9975753e-06 3.2951868e-06 1.9815682e-06\n",
      " 5.2479027e-06 2.8308716e-06 1.6624402e-06 1.9156857e-06 4.5414356e-07\n",
      " 1.0601190e-06 3.0898912e-06 7.1451558e-07 2.2286576e-06 3.7904485e-06\n",
      " 2.7306903e-06 4.9560958e-06 1.2135488e-06 2.1312310e-06 3.0782346e-06\n",
      " 2.5587003e-06 3.4165944e-06 2.4966857e-06 3.3241008e-06 3.3142294e-06\n",
      " 2.8298457e-06 4.9071405e-06 3.8455273e-06 3.2772400e-06 2.2084337e-06\n",
      " 1.1805304e-06 4.9265159e-06 2.9465341e-06 2.3143896e-06 1.2424580e-06\n",
      " 1.7147538e-06 3.1863499e-06 9.4246479e-07 3.2160874e-06 1.8559022e-06\n",
      " 7.7289724e-07 1.1610804e-06 5.5532619e-06 1.5170083e-06 1.1929804e-06\n",
      " 9.8815440e-07 1.4195194e-06 1.8827880e-06 1.2312504e-06 2.4577928e-06\n",
      " 3.1975617e-06 3.8781118e-06 1.6072188e-06 1.3944250e-06 5.1575657e-06\n",
      " 9.1989102e-07 1.3947546e-06 3.5187770e-06 1.2596334e-06 4.2967631e-06\n",
      " 1.7873988e-06 5.4824218e-06 2.7037597e-06 2.9900725e-06 4.3580253e-06\n",
      " 1.7371266e-06 8.0713068e-07 3.6829799e-06 1.4553799e-06 2.6532271e-06\n",
      " 4.1417161e-06 3.0798969e-06 1.2859890e-06 4.1120311e-06 3.6190122e-06\n",
      " 2.9271655e-06 2.3859097e-06 6.6638961e-08 3.9038982e-06 2.3977348e-06\n",
      " 5.5347195e-06 1.9511081e-06 4.8161019e-06 1.6121468e-06 3.5649825e-06\n",
      " 4.1020444e-06 3.3979450e-06 5.1051497e-06 3.6236984e-06 1.8804518e-06\n",
      " 2.1130588e-06 3.2888097e-06 3.3861706e-06 6.8645090e-06 1.1964795e-06\n",
      " 1.5604024e-07 1.7365641e-06 5.1906131e-06 5.2656655e-06 2.8029785e-06\n",
      " 2.3363638e-07 2.9235198e-07 4.1466255e-06 1.5614359e-06 2.5460859e-06\n",
      " 3.0957594e-06 2.1901010e-06 2.8898396e-06 5.2161513e-06 1.3093494e-06\n",
      " 1.5011244e-07 2.6317227e-06 3.8885341e-06 2.7251365e-06 2.3276145e-06\n",
      " 1.9334861e-06 2.2329598e-06 3.7297564e-06 3.8504941e-06 4.9457344e-06\n",
      " 3.1664306e-06 4.4999615e-06 4.5166141e-07 2.2354636e-06 5.5906680e-06\n",
      " 3.8261978e-06 2.6553746e-06 8.7623664e-07 6.2112249e-06 2.2781517e-06\n",
      " 5.7104048e-06 3.7359569e-06 3.4374384e-07 1.3619911e-06 6.6536027e-06\n",
      " 4.3601840e-06 4.1210756e-06 1.5495421e-07 4.9356781e-06 4.5623297e-06\n",
      " 3.9875176e-06 3.8451303e-06 1.7974641e-07 3.4595505e-06 3.9220349e-06\n",
      " 4.0107939e-06 2.6620728e-06 1.2578548e-06 6.1536166e-06 2.2771369e-06\n",
      " 4.2498054e-06 2.3381210e-06 4.3690075e-06 1.2153763e-06 3.4587874e-06\n",
      " 4.8388720e-06 1.5622517e-06 1.6424510e-06 1.6246681e-06 1.8762777e-06\n",
      " 2.6244388e-06 3.8201620e-06 3.7075172e-06 9.2174884e-07 3.2134915e-06\n",
      " 6.8878157e-06 3.4606055e-06 3.0171545e-06 4.5126872e-06 2.4127185e-06\n",
      " 2.8360869e-06 4.2173524e-06 6.6364942e-06 1.2542257e-06 2.4453636e-06\n",
      " 3.5307896e-06 2.1705832e-06 2.4043970e-06 1.7679041e-06 2.8789721e-06\n",
      " 3.4281555e-07 7.0182028e-07 4.1516873e-06 3.6745312e-06 3.0906801e-06\n",
      " 4.5801812e-06 2.8725538e-06 3.1461618e-06 4.3676118e-06 2.6521893e-06\n",
      " 4.7956701e-09 1.8938704e-06 2.3878247e-06 1.8018698e-06 5.7936545e-06\n",
      " 4.3430573e-06 4.1121389e-06 1.5620478e-06 2.7591857e-06 3.8181979e-06\n",
      " 3.4352922e-06 6.1916412e-06 2.0228917e-06 1.6450837e-06 4.0936156e-06\n",
      " 3.3861875e-06 9.5224250e-06 3.5802630e-06 1.3457728e-06 3.2742209e-06\n",
      " 4.0679070e-06 1.8884390e-06 8.1937060e-07 4.2945862e-06 4.0871819e-06\n",
      " 2.4878843e-06 1.0834996e-06 2.1072003e-06 3.5122962e-06 1.4956397e-06\n",
      " 2.8139702e-06 1.0735797e-07 3.2971325e-06 3.3467779e-06 2.5800794e-06\n",
      " 6.2356798e-06 2.9292592e-06 4.0212581e-06 4.7843760e-06 4.0204927e-06\n",
      " 3.5726750e-06 2.1444191e-06]\n",
      "tensor_name:  layer_with_weights-0/kernel/.ATTRIBUTES/VARIABLE_VALUE\n",
      "[[ 0.06373818 -0.05623991  0.04096012 ... -0.06594083 -0.05102499\n",
      "   0.02332061]\n",
      " [-0.05904033  0.05402575  0.00997623 ...  0.00343651 -0.04584748\n",
      "  -0.0005682 ]\n",
      " [ 0.05672874 -0.03472171 -0.04676548 ... -0.02162492  0.01701416\n",
      "   0.01978847]\n",
      " ...\n",
      " [-0.0167449   0.06260736 -0.06041676 ... -0.06704959  0.04261317\n",
      "  -0.05587123]\n",
      " [-0.00216618 -0.05056424 -0.02079904 ... -0.04900682 -0.00345795\n",
      "  -0.06439602]\n",
      " [-0.00909849 -0.00724277 -0.00288125 ... -0.04534044  0.01593492\n",
      "   0.05947055]]\n",
      "tensor_name:  layer_with_weights-1/kernel/.ATTRIBUTES/VARIABLE_VALUE\n",
      "[[-0.05757568 -0.03991362 -0.04698041 ... -0.14486568  0.07975302\n",
      "  -0.00463312]\n",
      " [-0.05714833  0.03394945  0.06636374 ...  0.01835252  0.12497503\n",
      "  -0.12127164]\n",
      " [ 0.04012496  0.08417058 -0.04066141 ... -0.12749486  0.11715417\n",
      "  -0.02193036]\n",
      " ...\n",
      " [-0.11252134  0.11292594 -0.0619359  ... -0.11241753  0.11191284\n",
      "  -0.08915596]\n",
      " [ 0.10832632 -0.04231307  0.06500906 ... -0.07900821 -0.04895315\n",
      "   0.04447486]\n",
      " [-0.07315748  0.06947658  0.07955804 ...  0.06340002 -0.12225226\n",
      "   0.00557979]]\n",
      "tensor_name:  optimizer/_variables/5/.ATTRIBUTES/VARIABLE_VALUE\n",
      "[[ 1.17916417e-04  3.69698799e-04  1.54715832e-04 ...  5.20431960e-04\n",
      "  -1.00120297e-03 -4.75849927e-04]\n",
      " [ 2.65185099e-05  3.43713938e-04 -2.08353784e-04 ...  1.37727620e-04\n",
      "  -9.09756985e-04  1.59795920e-04]\n",
      " [ 3.42934800e-05  2.24825228e-04 -7.61155206e-06 ...  3.52180214e-04\n",
      "  -4.51734319e-04 -2.74976410e-05]\n",
      " ...\n",
      " [ 7.14884081e-05  2.56236613e-04  8.47079209e-05 ...  2.74822029e-04\n",
      "  -6.85383158e-04 -2.30323931e-04]\n",
      " [ 1.36007569e-04  1.30243585e-04 -2.16048444e-04 ...  1.38690404e-04\n",
      "  -9.34306227e-05 -2.48684722e-04]\n",
      " [ 2.29809048e-05  2.87582534e-05 -1.15105562e-04 ...  4.15814393e-05\n",
      "   1.03498176e-04  1.42855151e-05]]\n"
     ]
    }
   ],
   "source": [
    "import tensorflow.compat.v1 as tf1\n",
    "#使用NewCheckpointReader来读取ckpt里的变量\n",
    " \n",
    "#from tensorflow.python import pywrap_tensorflow\n",
    " \n",
    "#checkpoint_path = os.path.join(model_dir, \"model.ckpt\")\n",
    " \n",
    "reader = tf1.train.NewCheckpointReader(checkpoint_path) #tf.train.NewCheckpointReader\n",
    " \n",
    "var_to_shape_map = reader.get_variable_to_shape_map()\n",
    " \n",
    "print(type(var_to_shape_map))\n",
    "print(var_to_shape_map)\n",
    " \n",
    "for key in var_to_shape_map:\n",
    " \n",
    "  print(\"tensor_name: \", key)\n",
    " \n",
    "  print(reader.get_tensor(key))\n"
   ]
  },
  {
   "cell_type": "code",
   "execution_count": null,
   "metadata": {},
   "outputs": [],
   "source": []
  },
  {
   "cell_type": "code",
   "execution_count": null,
   "metadata": {},
   "outputs": [],
   "source": []
  },
  {
   "cell_type": "markdown",
   "metadata": {
    "id": "bpAbKkAyVPV8"
   },
   "source": [
    "### checkpoint 回调选项\n",
    "\n",
    "回调提供了几个选项，为 checkpoint 提供唯一名称并调整 checkpoint 频率。\n",
    "\n",
    "训练一个新模型，每五个 epochs 保存一次唯一命名的 checkpoint ："
   ]
  },
  {
   "cell_type": "code",
   "execution_count": 11,
   "metadata": {
    "execution": {
     "iopub.execute_input": "2022-08-31T05:12:19.843344Z",
     "iopub.status.busy": "2022-08-31T05:12:19.842767Z",
     "iopub.status.idle": "2022-08-31T05:12:27.122101Z",
     "shell.execute_reply": "2022-08-31T05:12:27.121416Z"
    },
    "id": "mQF_dlgIVOvq"
   },
   "outputs": [
    {
     "name": "stdout",
     "output_type": "stream",
     "text": [
      "\n",
      "Epoch 5: saving model to training_2/cp-0005.ckpt\n"
     ]
    },
    {
     "name": "stdout",
     "output_type": "stream",
     "text": [
      "\n",
      "Epoch 10: saving model to training_2/cp-0010.ckpt\n"
     ]
    },
    {
     "name": "stdout",
     "output_type": "stream",
     "text": [
      "\n",
      "Epoch 15: saving model to training_2/cp-0015.ckpt\n"
     ]
    },
    {
     "name": "stdout",
     "output_type": "stream",
     "text": [
      "\n",
      "Epoch 20: saving model to training_2/cp-0020.ckpt\n"
     ]
    },
    {
     "name": "stdout",
     "output_type": "stream",
     "text": [
      "\n",
      "Epoch 25: saving model to training_2/cp-0025.ckpt\n"
     ]
    },
    {
     "name": "stdout",
     "output_type": "stream",
     "text": [
      "\n",
      "Epoch 30: saving model to training_2/cp-0030.ckpt\n"
     ]
    },
    {
     "name": "stdout",
     "output_type": "stream",
     "text": [
      "\n",
      "Epoch 35: saving model to training_2/cp-0035.ckpt\n"
     ]
    },
    {
     "name": "stdout",
     "output_type": "stream",
     "text": [
      "\n",
      "Epoch 40: saving model to training_2/cp-0040.ckpt\n"
     ]
    },
    {
     "name": "stdout",
     "output_type": "stream",
     "text": [
      "\n",
      "Epoch 45: saving model to training_2/cp-0045.ckpt\n"
     ]
    },
    {
     "name": "stdout",
     "output_type": "stream",
     "text": [
      "\n",
      "Epoch 50: saving model to training_2/cp-0050.ckpt\n"
     ]
    },
    {
     "data": {
      "text/plain": [
       "<keras.callbacks.History at 0x7f56e00d5ee0>"
      ]
     },
     "execution_count": 11,
     "metadata": {},
     "output_type": "execute_result"
    }
   ],
   "source": [
    "# Include the epoch in the file name (uses `str.format`)\n",
    "checkpoint_path = \"training_2/cp-{epoch:04d}.ckpt\"\n",
    "checkpoint_dir = os.path.dirname(checkpoint_path)\n",
    "\n",
    "batch_size = 32\n",
    "\n",
    "# Create a callback that saves the model's weights every 5 epochs\n",
    "cp_callback = tf.keras.callbacks.ModelCheckpoint(\n",
    "    filepath=checkpoint_path, \n",
    "    verbose=1, \n",
    "    save_weights_only=True,\n",
    "    save_freq=5*batch_size)\n",
    "\n",
    "# Create a new model instance\n",
    "model = create_model()\n",
    "\n",
    "# Save the weights using the `checkpoint_path` format\n",
    "model.save_weights(checkpoint_path.format(epoch=0))\n",
    "\n",
    "# Train the model with the new callback\n",
    "model.fit(train_images, \n",
    "          train_labels,\n",
    "          epochs=50, \n",
    "          batch_size=batch_size, \n",
    "          callbacks=[cp_callback],\n",
    "          validation_data=(test_images, test_labels),\n",
    "          verbose=0)"
   ]
  },
  {
   "cell_type": "markdown",
   "metadata": {
    "id": "1zFrKTjjavWI"
   },
   "source": [
    "现在，检查生成的检查点并选择最新检查点："
   ]
  },
  {
   "cell_type": "code",
   "execution_count": 12,
   "metadata": {
    "execution": {
     "iopub.execute_input": "2022-08-31T05:12:27.125858Z",
     "iopub.status.busy": "2022-08-31T05:12:27.125622Z",
     "iopub.status.idle": "2022-08-31T05:12:27.130465Z",
     "shell.execute_reply": "2022-08-31T05:12:27.129840Z"
    },
    "id": "p64q3-V4sXt0"
   },
   "outputs": [
    {
     "data": {
      "text/plain": [
       "['cp-0020.ckpt.data-00000-of-00001',\n",
       " 'cp-0005.ckpt.index',\n",
       " 'cp-0025.ckpt.data-00000-of-00001',\n",
       " 'cp-0005.ckpt.data-00000-of-00001',\n",
       " 'cp-0000.ckpt.data-00000-of-00001',\n",
       " 'cp-0035.ckpt.index',\n",
       " 'cp-0045.ckpt.data-00000-of-00001',\n",
       " 'cp-0015.ckpt.data-00000-of-00001',\n",
       " 'cp-0040.ckpt.data-00000-of-00001',\n",
       " 'cp-0050.ckpt.index',\n",
       " 'cp-0020.ckpt.index',\n",
       " 'cp-0045.ckpt.index',\n",
       " 'cp-0025.ckpt.index',\n",
       " 'cp-0030.ckpt.index',\n",
       " 'cp-0000.ckpt.index',\n",
       " 'cp-0030.ckpt.data-00000-of-00001',\n",
       " 'cp-0040.ckpt.index',\n",
       " 'cp-0050.ckpt.data-00000-of-00001',\n",
       " 'cp-0010.ckpt.data-00000-of-00001',\n",
       " 'cp-0035.ckpt.data-00000-of-00001',\n",
       " 'checkpoint',\n",
       " 'cp-0010.ckpt.index',\n",
       " 'cp-0015.ckpt.index']"
      ]
     },
     "execution_count": 12,
     "metadata": {},
     "output_type": "execute_result"
    }
   ],
   "source": [
    "os.listdir(checkpoint_dir)"
   ]
  },
  {
   "cell_type": "code",
   "execution_count": 13,
   "metadata": {
    "execution": {
     "iopub.execute_input": "2022-08-31T05:12:27.133943Z",
     "iopub.status.busy": "2022-08-31T05:12:27.133433Z",
     "iopub.status.idle": "2022-08-31T05:12:27.138058Z",
     "shell.execute_reply": "2022-08-31T05:12:27.137539Z"
    },
    "id": "1AN_fnuyR41H"
   },
   "outputs": [
    {
     "data": {
      "text/plain": [
       "'training_2/cp-0050.ckpt'"
      ]
     },
     "execution_count": 13,
     "metadata": {},
     "output_type": "execute_result"
    }
   ],
   "source": [
    "latest = tf.train.latest_checkpoint(checkpoint_dir)\n",
    "latest"
   ]
  },
  {
   "cell_type": "markdown",
   "metadata": {
    "id": "Zk2ciGbKg561"
   },
   "source": [
    "注：默认 TensorFlow 格式只保存最近的 5 个检查点。\n",
    "\n",
    "要进行测试，请重置模型并加载最新检查点："
   ]
  },
  {
   "cell_type": "code",
   "execution_count": 14,
   "metadata": {
    "execution": {
     "iopub.execute_input": "2022-08-31T05:12:27.141467Z",
     "iopub.status.busy": "2022-08-31T05:12:27.141009Z",
     "iopub.status.idle": "2022-08-31T05:12:27.384042Z",
     "shell.execute_reply": "2022-08-31T05:12:27.383203Z"
    },
    "id": "3M04jyK-H3QK"
   },
   "outputs": [
    {
     "name": "stdout",
     "output_type": "stream",
     "text": [
      "32/32 - 0s - loss: 0.4798 - sparse_categorical_accuracy: 0.8800 - 156ms/epoch - 5ms/step\n"
     ]
    },
    {
     "name": "stdout",
     "output_type": "stream",
     "text": [
      "Restored model, accuracy: 88.00%\n"
     ]
    }
   ],
   "source": [
    "# Create a new model instance\n",
    "model = create_model()\n",
    "\n",
    "# Load the previously saved weights\n",
    "model.load_weights(latest)\n",
    "\n",
    "# Re-evaluate the model\n",
    "loss, acc = model.evaluate(test_images, test_labels, verbose=2)\n",
    "print(\"Restored model, accuracy: {:5.2f}%\".format(100 * acc))"
   ]
  },
  {
   "cell_type": "markdown",
   "metadata": {
    "id": "c2OxsJOTHxia"
   },
   "source": [
    "## 这些文件是什么？"
   ]
  },
  {
   "cell_type": "markdown",
   "metadata": {
    "id": "JtdYhvWnH2ib"
   },
   "source": [
    "上述代码可将权重存储到[检查点](../../guide/checkpoint.ipynb)格式文件（仅包含二进制格式训练权重） 的合集中。检查点包含：\n",
    "\n",
    "- 一个或多个包含模型权重的分片。\n",
    "- 一个索引文件，指示哪些权重存储在哪个分片中。\n",
    "\n",
    "如果您在一台计算机上训练模型，您将获得一个具有如下后缀的分片：`.data-00000-of-00001`"
   ]
  },
  {
   "cell_type": "markdown",
   "metadata": {
    "id": "S_FA-ZvxuXQV"
   },
   "source": [
    "## 手动保存权重\n",
    "\n",
    "要手动保存权重，请使用 `tf.keras.Model.save_weights`。默认情况下，`tf.keras`（尤其是 `Model.save_weights` 方法）使用扩展名为 `.ckpt` 的 TensorFlow [检查点](../../guide/checkpoint.ipynb)格式。要以扩展名为 `.h5` 的 HDF5 格式保存，请参阅[保存和加载模型](https://tensorflow.google.cn/guide/keras/save_and_serialize)指南。"
   ]
  },
  {
   "cell_type": "code",
   "execution_count": 15,
   "metadata": {
    "execution": {
     "iopub.execute_input": "2022-08-31T05:12:27.388650Z",
     "iopub.status.busy": "2022-08-31T05:12:27.388016Z",
     "iopub.status.idle": "2022-08-31T05:12:27.664188Z",
     "shell.execute_reply": "2022-08-31T05:12:27.663382Z"
    },
    "id": "R7W5plyZ-u9X"
   },
   "outputs": [
    {
     "name": "stdout",
     "output_type": "stream",
     "text": [
      "WARNING:tensorflow:Detecting that an object or model or tf.train.Checkpoint is being deleted with unrestored values. See the following logs for the specific values in question. To silence these warnings, use `status.expect_partial()`. See https://www.tensorflow.org/api_docs/python/tf/train/Checkpoint#restorefor details about the status object returned by the restore function.\n"
     ]
    },
    {
     "name": "stdout",
     "output_type": "stream",
     "text": [
      "WARNING:tensorflow:Value in checkpoint could not be found in the restored object: (root).optimizer.iter\n"
     ]
    },
    {
     "name": "stdout",
     "output_type": "stream",
     "text": [
      "WARNING:tensorflow:Value in checkpoint could not be found in the restored object: (root).optimizer.beta_1\n"
     ]
    },
    {
     "name": "stdout",
     "output_type": "stream",
     "text": [
      "WARNING:tensorflow:Value in checkpoint could not be found in the restored object: (root).optimizer.beta_2\n"
     ]
    },
    {
     "name": "stdout",
     "output_type": "stream",
     "text": [
      "WARNING:tensorflow:Value in checkpoint could not be found in the restored object: (root).optimizer.decay\n"
     ]
    },
    {
     "name": "stdout",
     "output_type": "stream",
     "text": [
      "WARNING:tensorflow:Value in checkpoint could not be found in the restored object: (root).optimizer.learning_rate\n"
     ]
    },
    {
     "name": "stdout",
     "output_type": "stream",
     "text": [
      "32/32 - 0s - loss: 0.4798 - sparse_categorical_accuracy: 0.8800 - 155ms/epoch - 5ms/step\n"
     ]
    },
    {
     "name": "stdout",
     "output_type": "stream",
     "text": [
      "Restored model, accuracy: 88.00%\n"
     ]
    }
   ],
   "source": [
    "# Save the weights\n",
    "model.save_weights('./checkpoints/my_checkpoint')\n",
    "\n",
    "# Create a new model instance\n",
    "model = create_model()\n",
    "\n",
    "# Restore the weights\n",
    "model.load_weights('./checkpoints/my_checkpoint')\n",
    "\n",
    "# Evaluate the model\n",
    "loss, acc = model.evaluate(test_images, test_labels, verbose=2)\n",
    "print(\"Restored model, accuracy: {:5.2f}%\".format(100 * acc))"
   ]
  },
  {
   "cell_type": "markdown",
   "metadata": {
    "id": "kOGlxPRBEvV1"
   },
   "source": [
    "## 保存整个模型\n",
    "\n",
    "调用 `tf.keras.Model.save` 以将模型的架构、权重和训练配置保存在单个 `file/folder` 中。这样一来，您可以导出模型，以便在不访问原始 Python 代码的情况下使用它*。由于优化器状态已经恢复，可以从中断的位置恢复训练。\n",
    "\n",
    "整个模型可以保存为两种不同的文件格式（`SavedModel` 和 `HDF5`）。TensorFlow `SavedModel` 格式是 TF2.x 中的默认文件格式。但是，模型能够以 `HDF5` 格式保存。下面详细介绍了如何以两种文件格式保存整个模型。\n",
    "\n",
    "保存全功能模型会非常有用，您可以在 TensorFlow.js（[Saved Model](https://tensorflow.google.cn/js/tutorials/conversion/import_saved_model)、[HDF5](https://tensorflow.google.cn/js/tutorials/conversion/import_keras)）中加载它们，然后在网络浏览器中训练和运行，或者使用 TensorFlow Lite（[Saved Model](https://tensorflow.google.cn/lite/models/convert/#convert_a_savedmodel_recommended_)、[HDF5](https://tensorflow.google.cn/lite/models/convert/#convert_a_keras_model_)）转换它们以在移动设备上运行\n",
    "\n",
    "*自定义对象（例如，子类化模型或层）在保存和加载时需要特别注意。请参阅下面的**保存自定义对象**部分。"
   ]
  },
  {
   "cell_type": "markdown",
   "metadata": {
    "id": "kPyhgcoVzqUB"
   },
   "source": [
    "### SavedModel 格式"
   ]
  },
  {
   "cell_type": "markdown",
   "metadata": {
    "id": "LtcN4VIb7JkK"
   },
   "source": [
    "SavedModel 格式是另一种序列化模型的方式。以这种格式保存的模型可以使用 `tf.keras.models.load_model` 还原，并且与 TensorFlow Serving 兼容。[SavedModel 指南](../../guide/saved_model.ipynb)详细介绍了如何 `serve/inspect` SavedModel。以下部分说明了保存和恢复模型的步骤。"
   ]
  },
  {
   "cell_type": "code",
   "execution_count": 16,
   "metadata": {
    "execution": {
     "iopub.execute_input": "2022-08-31T05:12:27.668784Z",
     "iopub.status.busy": "2022-08-31T05:12:27.668214Z",
     "iopub.status.idle": "2022-08-31T05:12:29.132492Z",
     "shell.execute_reply": "2022-08-31T05:12:29.131708Z"
    },
    "id": "sI1YvCDFzpl3"
   },
   "outputs": [
    {
     "name": "stdout",
     "output_type": "stream",
     "text": [
      "Epoch 1/5\n"
     ]
    },
    {
     "name": "stdout",
     "output_type": "stream",
     "text": [
      "\r\n",
      " 1/32 [..............................] - ETA: 9s - loss: 2.4671 - sparse_categorical_accuracy: 0.0312"
     ]
    },
    {
     "name": "stdout",
     "output_type": "stream",
     "text": [
      "\b\b\b\b\b\b\b\b\b\b\b\b\b\b\b\b\b\b\b\b\b\b\b\b\b\b\b\b\b\b\b\b\b\b\b\b\b\b\b\b\b\b\b\b\b\b\b\b\b\b\b\b\b\b\b\b\b\b\b\b\b\b\b\b\b\b\b\b\b\b\b\b\b\b\b\b\b\b\b\b\b\b\b\b\b\b\b\b\b\b\b\b\b\b\b\b\b\b\b\b\b\r\n",
      "26/32 [=======================>......] - ETA: 0s - loss: 1.2919 - sparse_categorical_accuracy: 0.6154"
     ]
    },
    {
     "name": "stdout",
     "output_type": "stream",
     "text": [
      "\b\b\b\b\b\b\b\b\b\b\b\b\b\b\b\b\b\b\b\b\b\b\b\b\b\b\b\b\b\b\b\b\b\b\b\b\b\b\b\b\b\b\b\b\b\b\b\b\b\b\b\b\b\b\b\b\b\b\b\b\b\b\b\b\b\b\b\b\b\b\b\b\b\b\b\b\b\b\b\b\b\b\b\b\b\b\b\b\b\b\b\b\b\b\b\b\b\b\b\b\b\r\n",
      "32/32 [==============================] - 0s 2ms/step - loss: 1.1801 - sparse_categorical_accuracy: 0.6520\n"
     ]
    },
    {
     "name": "stdout",
     "output_type": "stream",
     "text": [
      "Epoch 2/5\n"
     ]
    },
    {
     "name": "stdout",
     "output_type": "stream",
     "text": [
      "\r\n",
      " 1/32 [..............................] - ETA: 0s - loss: 0.7903 - sparse_categorical_accuracy: 0.7500"
     ]
    },
    {
     "name": "stdout",
     "output_type": "stream",
     "text": [
      "\b\b\b\b\b\b\b\b\b\b\b\b\b\b\b\b\b\b\b\b\b\b\b\b\b\b\b\b\b\b\b\b\b\b\b\b\b\b\b\b\b\b\b\b\b\b\b\b\b\b\b\b\b\b\b\b\b\b\b\b\b\b\b\b\b\b\b\b\b\b\b\b\b\b\b\b\b\b\b\b\b\b\b\b\b\b\b\b\b\b\b\b\b\b\b\b\b\b\b\b\b\r\n",
      "25/32 [======================>.......] - ETA: 0s - loss: 0.4297 - sparse_categorical_accuracy: 0.8838"
     ]
    },
    {
     "name": "stdout",
     "output_type": "stream",
     "text": [
      "\b\b\b\b\b\b\b\b\b\b\b\b\b\b\b\b\b\b\b\b\b\b\b\b\b\b\b\b\b\b\b\b\b\b\b\b\b\b\b\b\b\b\b\b\b\b\b\b\b\b\b\b\b\b\b\b\b\b\b\b\b\b\b\b\b\b\b\b\b\b\b\b\b\b\b\b\b\b\b\b\b\b\b\b\b\b\b\b\b\b\b\b\b\b\b\b\b\b\b\b\b\r\n",
      "32/32 [==============================] - 0s 2ms/step - loss: 0.4198 - sparse_categorical_accuracy: 0.8870\n"
     ]
    },
    {
     "name": "stdout",
     "output_type": "stream",
     "text": [
      "Epoch 3/5\n"
     ]
    },
    {
     "name": "stdout",
     "output_type": "stream",
     "text": [
      "\r\n",
      " 1/32 [..............................] - ETA: 0s - loss: 0.2603 - sparse_categorical_accuracy: 0.9062"
     ]
    },
    {
     "name": "stdout",
     "output_type": "stream",
     "text": [
      "\b\b\b\b\b\b\b\b\b\b\b\b\b\b\b\b\b\b\b\b\b\b\b\b\b\b\b\b\b\b\b\b\b\b\b\b\b\b\b\b\b\b\b\b\b\b\b\b\b\b\b\b\b\b\b\b\b\b\b\b\b\b\b\b\b\b\b\b\b\b\b\b\b\b\b\b\b\b\b\b\b\b\b\b\b\b\b\b\b\b\b\b\b\b\b\b\b\b\b\b\b\r\n",
      "25/32 [======================>.......] - ETA: 0s - loss: 0.2864 - sparse_categorical_accuracy: 0.9262"
     ]
    },
    {
     "name": "stdout",
     "output_type": "stream",
     "text": [
      "\b\b\b\b\b\b\b\b\b\b\b\b\b\b\b\b\b\b\b\b\b\b\b\b\b\b\b\b\b\b\b\b\b\b\b\b\b\b\b\b\b\b\b\b\b\b\b\b\b\b\b\b\b\b\b\b\b\b\b\b\b\b\b\b\b\b\b\b\b\b\b\b\b\b\b\b\b\b\b\b\b\b\b\b\b\b\b\b\b\b\b\b\b\b\b\b\b\b\b\b\b\r\n",
      "32/32 [==============================] - 0s 2ms/step - loss: 0.2929 - sparse_categorical_accuracy: 0.9250\n"
     ]
    },
    {
     "name": "stdout",
     "output_type": "stream",
     "text": [
      "Epoch 4/5\n"
     ]
    },
    {
     "name": "stdout",
     "output_type": "stream",
     "text": [
      "\r\n",
      " 1/32 [..............................] - ETA: 0s - loss: 0.1973 - sparse_categorical_accuracy: 0.9688"
     ]
    },
    {
     "name": "stdout",
     "output_type": "stream",
     "text": [
      "\b\b\b\b\b\b\b\b\b\b\b\b\b\b\b\b\b\b\b\b\b\b\b\b\b\b\b\b\b\b\b\b\b\b\b\b\b\b\b\b\b\b\b\b\b\b\b\b\b\b\b\b\b\b\b\b\b\b\b\b\b\b\b\b\b\b\b\b\b\b\b\b\b\b\b\b\b\b\b\b\b\b\b\b\b\b\b\b\b\b\b\b\b\b\b\b\b\b\b\b\b\r\n",
      "27/32 [========================>.....] - ETA: 0s - loss: 0.2341 - sparse_categorical_accuracy: 0.9468"
     ]
    },
    {
     "name": "stdout",
     "output_type": "stream",
     "text": [
      "\b\b\b\b\b\b\b\b\b\b\b\b\b\b\b\b\b\b\b\b\b\b\b\b\b\b\b\b\b\b\b\b\b\b\b\b\b\b\b\b\b\b\b\b\b\b\b\b\b\b\b\b\b\b\b\b\b\b\b\b\b\b\b\b\b\b\b\b\b\b\b\b\b\b\b\b\b\b\b\b\b\b\b\b\b\b\b\b\b\b\b\b\b\b\b\b\b\b\b\b\b\r\n",
      "32/32 [==============================] - 0s 2ms/step - loss: 0.2222 - sparse_categorical_accuracy: 0.9470\n"
     ]
    },
    {
     "name": "stdout",
     "output_type": "stream",
     "text": [
      "Epoch 5/5\n"
     ]
    },
    {
     "name": "stdout",
     "output_type": "stream",
     "text": [
      "\r\n",
      " 1/32 [..............................] - ETA: 0s - loss: 0.3043 - sparse_categorical_accuracy: 0.9062"
     ]
    },
    {
     "name": "stdout",
     "output_type": "stream",
     "text": [
      "\b\b\b\b\b\b\b\b\b\b\b\b\b\b\b\b\b\b\b\b\b\b\b\b\b\b\b\b\b\b\b\b\b\b\b\b\b\b\b\b\b\b\b\b\b\b\b\b\b\b\b\b\b\b\b\b\b\b\b\b\b\b\b\b\b\b\b\b\b\b\b\b\b\b\b\b\b\b\b\b\b\b\b\b\b\b\b\b\b\b\b\b\b\b\b\b\b\b\b\b\b\r\n",
      "27/32 [========================>.....] - ETA: 0s - loss: 0.1683 - sparse_categorical_accuracy: 0.9606"
     ]
    },
    {
     "name": "stdout",
     "output_type": "stream",
     "text": [
      "\b\b\b\b\b\b\b\b\b\b\b\b\b\b\b\b\b\b\b\b\b\b\b\b\b\b\b\b\b\b\b\b\b\b\b\b\b\b\b\b\b\b\b\b\b\b\b\b\b\b\b\b\b\b\b\b\b\b\b\b\b\b\b\b\b\b\b\b\b\b\b\b\b\b\b\b\b\b\b\b\b\b\b\b\b\b\b\b\b\b\b\b\b\b\b\b\b\b\b\b\b\r\n",
      "32/32 [==============================] - 0s 2ms/step - loss: 0.1728 - sparse_categorical_accuracy: 0.9590\n"
     ]
    },
    {
     "name": "stdout",
     "output_type": "stream",
     "text": [
      "INFO:tensorflow:Assets written to: saved_model/my_model/assets\n"
     ]
    }
   ],
   "source": [
    "# Create and train a new model instance.\n",
    "model = create_model()\n",
    "model.fit(train_images, train_labels, epochs=5)\n",
    "\n",
    "# Save the entire model as a SavedModel.\n",
    "!mkdir -p saved_model\n",
    "model.save('saved_model/my_model') "
   ]
  },
  {
   "cell_type": "markdown",
   "metadata": {
    "id": "iUvT_3qE8hV5"
   },
   "source": [
    "SavedModel 格式是一个包含 protobuf 二进制文件和 TensorFlow 检查点的目录。检查保存的模型目录："
   ]
  },
  {
   "cell_type": "code",
   "execution_count": 17,
   "metadata": {
    "execution": {
     "iopub.execute_input": "2022-08-31T05:12:29.136508Z",
     "iopub.status.busy": "2022-08-31T05:12:29.136268Z",
     "iopub.status.idle": "2022-08-31T05:12:29.458003Z",
     "shell.execute_reply": "2022-08-31T05:12:29.457125Z"
    },
    "id": "sq8fPglI1RWA"
   },
   "outputs": [
    {
     "name": "stdout",
     "output_type": "stream",
     "text": [
      "my_model\r\n"
     ]
    },
    {
     "name": "stdout",
     "output_type": "stream",
     "text": [
      "assets\tkeras_metadata.pb  saved_model.pb  variables\r\n"
     ]
    }
   ],
   "source": [
    "# my_model directory\n",
    "!ls saved_model\n",
    "\n",
    "# Contains an assets folder, saved_model.pb, and variables folder.\n",
    "!ls saved_model/my_model"
   ]
  },
  {
   "cell_type": "markdown",
   "metadata": {
    "id": "B7qfpvpY9HCe"
   },
   "source": [
    "从保存的模型重新加载一个新的 Keras 模型："
   ]
  },
  {
   "cell_type": "code",
   "execution_count": 18,
   "metadata": {
    "execution": {
     "iopub.execute_input": "2022-08-31T05:12:29.462334Z",
     "iopub.status.busy": "2022-08-31T05:12:29.462059Z",
     "iopub.status.idle": "2022-08-31T05:12:29.674755Z",
     "shell.execute_reply": "2022-08-31T05:12:29.674039Z"
    },
    "id": "0YofwHdN0pxa"
   },
   "outputs": [
    {
     "name": "stdout",
     "output_type": "stream",
     "text": [
      "Model: \"sequential_5\"\n"
     ]
    },
    {
     "name": "stdout",
     "output_type": "stream",
     "text": [
      "_________________________________________________________________\n"
     ]
    },
    {
     "name": "stdout",
     "output_type": "stream",
     "text": [
      " Layer (type)                Output Shape              Param #   \n"
     ]
    },
    {
     "name": "stdout",
     "output_type": "stream",
     "text": [
      "=================================================================\n"
     ]
    },
    {
     "name": "stdout",
     "output_type": "stream",
     "text": [
      " dense_10 (Dense)            (None, 512)               401920    \n"
     ]
    },
    {
     "name": "stdout",
     "output_type": "stream",
     "text": [
      "                                                                 \n"
     ]
    },
    {
     "name": "stdout",
     "output_type": "stream",
     "text": [
      " dropout_5 (Dropout)         (None, 512)               0         \n"
     ]
    },
    {
     "name": "stdout",
     "output_type": "stream",
     "text": [
      "                                                                 \n"
     ]
    },
    {
     "name": "stdout",
     "output_type": "stream",
     "text": [
      " dense_11 (Dense)            (None, 10)                5130      \n"
     ]
    },
    {
     "name": "stdout",
     "output_type": "stream",
     "text": [
      "                                                                 \n"
     ]
    },
    {
     "name": "stdout",
     "output_type": "stream",
     "text": [
      "=================================================================\n"
     ]
    },
    {
     "name": "stdout",
     "output_type": "stream",
     "text": [
      "Total params: 407,050\n"
     ]
    },
    {
     "name": "stdout",
     "output_type": "stream",
     "text": [
      "Trainable params: 407,050\n"
     ]
    },
    {
     "name": "stdout",
     "output_type": "stream",
     "text": [
      "Non-trainable params: 0\n"
     ]
    },
    {
     "name": "stdout",
     "output_type": "stream",
     "text": [
      "_________________________________________________________________\n"
     ]
    }
   ],
   "source": [
    "new_model = tf.keras.models.load_model('saved_model/my_model')\n",
    "\n",
    "# Check its architecture\n",
    "new_model.summary()"
   ]
  },
  {
   "cell_type": "markdown",
   "metadata": {
    "id": "uWwgNaz19TH2"
   },
   "source": [
    "使用与原始模型相同的参数编译恢复的模型。尝试使用加载的模型运行评估和预测："
   ]
  },
  {
   "cell_type": "code",
   "execution_count": 19,
   "metadata": {
    "execution": {
     "iopub.execute_input": "2022-08-31T05:12:29.684725Z",
     "iopub.status.busy": "2022-08-31T05:12:29.684203Z",
     "iopub.status.idle": "2022-08-31T05:12:30.077025Z",
     "shell.execute_reply": "2022-08-31T05:12:30.076266Z"
    },
    "id": "Yh5Mu0yOgE5J"
   },
   "outputs": [
    {
     "name": "stdout",
     "output_type": "stream",
     "text": [
      "32/32 - 0s - loss: 0.4184 - sparse_categorical_accuracy: 0.8590 - 164ms/epoch - 5ms/step\n"
     ]
    },
    {
     "name": "stdout",
     "output_type": "stream",
     "text": [
      "Restored model, accuracy: 85.90%\n",
      "\r\n",
      " 1/32 [..............................] - ETA: 2s"
     ]
    },
    {
     "name": "stdout",
     "output_type": "stream",
     "text": [
      "\b\b\b\b\b\b\b\b\b\b\b\b\b\b\b\b\b\b\b\b\b\b\b\b\b\b\b\b\b\b\b\b\b\b\b\b\b\b\b\b\b\b\b\b\b\b\b\b\r\n",
      "32/32 [==============================] - 0s 1ms/step\n"
     ]
    },
    {
     "name": "stdout",
     "output_type": "stream",
     "text": [
      "(1000, 10)\n"
     ]
    }
   ],
   "source": [
    "# Evaluate the restored model\n",
    "loss, acc = new_model.evaluate(test_images, test_labels, verbose=2)\n",
    "print('Restored model, accuracy: {:5.2f}%'.format(100 * acc))\n",
    "\n",
    "print(new_model.predict(test_images).shape)"
   ]
  },
  {
   "cell_type": "markdown",
   "metadata": {
    "id": "SkGwf-50zLNn"
   },
   "source": [
    "### HDF5 格式\n",
    "\n",
    "Keras使用 [HDF5](https://en.wikipedia.org/wiki/Hierarchical_Data_Format) 标准提供了一种基本的保存格式。 "
   ]
  },
  {
   "cell_type": "code",
   "execution_count": 20,
   "metadata": {
    "execution": {
     "iopub.execute_input": "2022-08-31T05:12:30.080948Z",
     "iopub.status.busy": "2022-08-31T05:12:30.080293Z",
     "iopub.status.idle": "2022-08-31T05:12:30.847616Z",
     "shell.execute_reply": "2022-08-31T05:12:30.846968Z"
    },
    "id": "m2dkmJVCGUia"
   },
   "outputs": [
    {
     "name": "stdout",
     "output_type": "stream",
     "text": [
      "Epoch 1/5\n"
     ]
    },
    {
     "name": "stdout",
     "output_type": "stream",
     "text": [
      "\r\n",
      " 1/32 [..............................] - ETA: 9s - loss: 2.4336 - sparse_categorical_accuracy: 0.0312"
     ]
    },
    {
     "name": "stdout",
     "output_type": "stream",
     "text": [
      "\b\b\b\b\b\b\b\b\b\b\b\b\b\b\b\b\b\b\b\b\b\b\b\b\b\b\b\b\b\b\b\b\b\b\b\b\b\b\b\b\b\b\b\b\b\b\b\b\b\b\b\b\b\b\b\b\b\b\b\b\b\b\b\b\b\b\b\b\b\b\b\b\b\b\b\b\b\b\b\b\b\b\b\b\b\b\b\b\b\b\b\b\b\b\b\b\b\b\b\b\b\r\n",
      "25/32 [======================>.......] - ETA: 0s - loss: 1.2285 - sparse_categorical_accuracy: 0.6450"
     ]
    },
    {
     "name": "stdout",
     "output_type": "stream",
     "text": [
      "\b\b\b\b\b\b\b\b\b\b\b\b\b\b\b\b\b\b\b\b\b\b\b\b\b\b\b\b\b\b\b\b\b\b\b\b\b\b\b\b\b\b\b\b\b\b\b\b\b\b\b\b\b\b\b\b\b\b\b\b\b\b\b\b\b\b\b\b\b\b\b\b\b\b\b\b\b\b\b\b\b\b\b\b\b\b\b\b\b\b\b\b\b\b\b\b\b\b\b\b\b\r\n",
      "32/32 [==============================] - 0s 2ms/step - loss: 1.1226 - sparse_categorical_accuracy: 0.6750\n"
     ]
    },
    {
     "name": "stdout",
     "output_type": "stream",
     "text": [
      "Epoch 2/5\n"
     ]
    },
    {
     "name": "stdout",
     "output_type": "stream",
     "text": [
      "\r\n",
      " 1/32 [..............................] - ETA: 0s - loss: 0.4429 - sparse_categorical_accuracy: 0.9062"
     ]
    },
    {
     "name": "stdout",
     "output_type": "stream",
     "text": [
      "\b\b\b\b\b\b\b\b\b\b\b\b\b\b\b\b\b\b\b\b\b\b\b\b\b\b\b\b\b\b\b\b\b\b\b\b\b\b\b\b\b\b\b\b\b\b\b\b\b\b\b\b\b\b\b\b\b\b\b\b\b\b\b\b\b\b\b\b\b\b\b\b\b\b\b\b\b\b\b\b\b\b\b\b\b\b\b\b\b\b\b\b\b\b\b\b\b\b\b\b\b\r\n",
      "27/32 [========================>.....] - ETA: 0s - loss: 0.4215 - sparse_categorical_accuracy: 0.8750"
     ]
    },
    {
     "name": "stdout",
     "output_type": "stream",
     "text": [
      "\b\b\b\b\b\b\b\b\b\b\b\b\b\b\b\b\b\b\b\b\b\b\b\b\b\b\b\b\b\b\b\b\b\b\b\b\b\b\b\b\b\b\b\b\b\b\b\b\b\b\b\b\b\b\b\b\b\b\b\b\b\b\b\b\b\b\b\b\b\b\b\b\b\b\b\b\b\b\b\b\b\b\b\b\b\b\b\b\b\b\b\b\b\b\b\b\b\b\b\b\b\r\n",
      "32/32 [==============================] - 0s 2ms/step - loss: 0.4029 - sparse_categorical_accuracy: 0.8850\n"
     ]
    },
    {
     "name": "stdout",
     "output_type": "stream",
     "text": [
      "Epoch 3/5\n"
     ]
    },
    {
     "name": "stdout",
     "output_type": "stream",
     "text": [
      "\r\n",
      " 1/32 [..............................] - ETA: 0s - loss: 0.2403 - sparse_categorical_accuracy: 1.0000"
     ]
    },
    {
     "name": "stdout",
     "output_type": "stream",
     "text": [
      "\b\b\b\b\b\b\b\b\b\b\b\b\b\b\b\b\b\b\b\b\b\b\b\b\b\b\b\b\b\b\b\b\b\b\b\b\b\b\b\b\b\b\b\b\b\b\b\b\b\b\b\b\b\b\b\b\b\b\b\b\b\b\b\b\b\b\b\b\b\b\b\b\b\b\b\b\b\b\b\b\b\b\b\b\b\b\b\b\b\b\b\b\b\b\b\b\b\b\b\b\b\r\n",
      "27/32 [========================>.....] - ETA: 0s - loss: 0.2726 - sparse_categorical_accuracy: 0.9317"
     ]
    },
    {
     "name": "stdout",
     "output_type": "stream",
     "text": [
      "\b\b\b\b\b\b\b\b\b\b\b\b\b\b\b\b\b\b\b\b\b\b\b\b\b\b\b\b\b\b\b\b\b\b\b\b\b\b\b\b\b\b\b\b\b\b\b\b\b\b\b\b\b\b\b\b\b\b\b\b\b\b\b\b\b\b\b\b\b\b\b\b\b\b\b\b\b\b\b\b\b\b\b\b\b\b\b\b\b\b\b\b\b\b\b\b\b\b\b\b\b\r\n",
      "32/32 [==============================] - 0s 2ms/step - loss: 0.2816 - sparse_categorical_accuracy: 0.9310\n"
     ]
    },
    {
     "name": "stdout",
     "output_type": "stream",
     "text": [
      "Epoch 4/5\n"
     ]
    },
    {
     "name": "stdout",
     "output_type": "stream",
     "text": [
      "\r\n",
      " 1/32 [..............................] - ETA: 0s - loss: 0.1205 - sparse_categorical_accuracy: 1.0000"
     ]
    },
    {
     "name": "stdout",
     "output_type": "stream",
     "text": [
      "\b\b\b\b\b\b\b\b\b\b\b\b\b\b\b\b\b\b\b\b\b\b\b\b\b\b\b\b\b\b\b\b\b\b\b\b\b\b\b\b\b\b\b\b\b\b\b\b\b\b\b\b\b\b\b\b\b\b\b\b\b\b\b\b\b\b\b\b\b\b\b\b\b\b\b\b\b\b\b\b\b\b\b\b\b\b\b\b\b\b\b\b\b\b\b\b\b\b\b\b\b\r\n",
      "27/32 [========================>.....] - ETA: 0s - loss: 0.2017 - sparse_categorical_accuracy: 0.9560"
     ]
    },
    {
     "name": "stdout",
     "output_type": "stream",
     "text": [
      "\b\b\b\b\b\b\b\b\b\b\b\b\b\b\b\b\b\b\b\b\b\b\b\b\b\b\b\b\b\b\b\b\b\b\b\b\b\b\b\b\b\b\b\b\b\b\b\b\b\b\b\b\b\b\b\b\b\b\b\b\b\b\b\b\b\b\b\b\b\b\b\b\b\b\b\b\b\b\b\b\b\b\b\b\b\b\b\b\b\b\b\b\b\b\b\b\b\b\b\b\b\r\n",
      "32/32 [==============================] - 0s 2ms/step - loss: 0.2025 - sparse_categorical_accuracy: 0.9560\n"
     ]
    },
    {
     "name": "stdout",
     "output_type": "stream",
     "text": [
      "Epoch 5/5\n"
     ]
    },
    {
     "name": "stdout",
     "output_type": "stream",
     "text": [
      "\r\n",
      " 1/32 [..............................] - ETA: 0s - loss: 0.2466 - sparse_categorical_accuracy: 0.8750"
     ]
    },
    {
     "name": "stdout",
     "output_type": "stream",
     "text": [
      "\b\b\b\b\b\b\b\b\b\b\b\b\b\b\b\b\b\b\b\b\b\b\b\b\b\b\b\b\b\b\b\b\b\b\b\b\b\b\b\b\b\b\b\b\b\b\b\b\b\b\b\b\b\b\b\b\b\b\b\b\b\b\b\b\b\b\b\b\b\b\b\b\b\b\b\b\b\b\b\b\b\b\b\b\b\b\b\b\b\b\b\b\b\b\b\b\b\b\b\b\b\r\n",
      "27/32 [========================>.....] - ETA: 0s - loss: 0.1521 - sparse_categorical_accuracy: 0.9676"
     ]
    },
    {
     "name": "stdout",
     "output_type": "stream",
     "text": [
      "\b\b\b\b\b\b\b\b\b\b\b\b\b\b\b\b\b\b\b\b\b\b\b\b\b\b\b\b\b\b\b\b\b\b\b\b\b\b\b\b\b\b\b\b\b\b\b\b\b\b\b\b\b\b\b\b\b\b\b\b\b\b\b\b\b\b\b\b\b\b\b\b\b\b\b\b\b\b\b\b\b\b\b\b\b\b\b\b\b\b\b\b\b\b\b\b\b\b\b\b\b\r\n",
      "32/32 [==============================] - 0s 2ms/step - loss: 0.1622 - sparse_categorical_accuracy: 0.9640\n"
     ]
    }
   ],
   "source": [
    "# Create and train a new model instance.\n",
    "model = create_model()\n",
    "model.fit(train_images, train_labels, epochs=5)\n",
    "\n",
    "# Save the entire model to a HDF5 file.\n",
    "# The '.h5' extension indicates that the model should be saved to HDF5.\n",
    "model.save('my_model.h5') "
   ]
  },
  {
   "cell_type": "markdown",
   "metadata": {
    "id": "GWmttMOqS68S"
   },
   "source": [
    "现在，从该文件重新创建模型："
   ]
  },
  {
   "cell_type": "code",
   "execution_count": 21,
   "metadata": {
    "execution": {
     "iopub.execute_input": "2022-08-31T05:12:30.851741Z",
     "iopub.status.busy": "2022-08-31T05:12:30.851249Z",
     "iopub.status.idle": "2022-08-31T05:12:30.931048Z",
     "shell.execute_reply": "2022-08-31T05:12:30.930363Z"
    },
    "id": "5NDMO_7kS6Do"
   },
   "outputs": [
    {
     "name": "stdout",
     "output_type": "stream",
     "text": [
      "Model: \"sequential_6\"\n"
     ]
    },
    {
     "name": "stdout",
     "output_type": "stream",
     "text": [
      "_________________________________________________________________\n"
     ]
    },
    {
     "name": "stdout",
     "output_type": "stream",
     "text": [
      " Layer (type)                Output Shape              Param #   \n"
     ]
    },
    {
     "name": "stdout",
     "output_type": "stream",
     "text": [
      "=================================================================\n"
     ]
    },
    {
     "name": "stdout",
     "output_type": "stream",
     "text": [
      " dense_12 (Dense)            (None, 512)               401920    \n"
     ]
    },
    {
     "name": "stdout",
     "output_type": "stream",
     "text": [
      "                                                                 \n"
     ]
    },
    {
     "name": "stdout",
     "output_type": "stream",
     "text": [
      " dropout_6 (Dropout)         (None, 512)               0         \n"
     ]
    },
    {
     "name": "stdout",
     "output_type": "stream",
     "text": [
      "                                                                 \n"
     ]
    },
    {
     "name": "stdout",
     "output_type": "stream",
     "text": [
      " dense_13 (Dense)            (None, 10)                5130      \n"
     ]
    },
    {
     "name": "stdout",
     "output_type": "stream",
     "text": [
      "                                                                 \n"
     ]
    },
    {
     "name": "stdout",
     "output_type": "stream",
     "text": [
      "=================================================================\n"
     ]
    },
    {
     "name": "stdout",
     "output_type": "stream",
     "text": [
      "Total params: 407,050\n"
     ]
    },
    {
     "name": "stdout",
     "output_type": "stream",
     "text": [
      "Trainable params: 407,050\n"
     ]
    },
    {
     "name": "stdout",
     "output_type": "stream",
     "text": [
      "Non-trainable params: 0\n"
     ]
    },
    {
     "name": "stdout",
     "output_type": "stream",
     "text": [
      "_________________________________________________________________\n"
     ]
    }
   ],
   "source": [
    "# Recreate the exact same model, including its weights and the optimizer\n",
    "new_model = tf.keras.models.load_model('my_model.h5')\n",
    "\n",
    "# Show the model architecture\n",
    "new_model.summary()"
   ]
  },
  {
   "cell_type": "markdown",
   "metadata": {
    "id": "JXQpbTicTBwt"
   },
   "source": [
    "检查其准确率（accuracy）："
   ]
  },
  {
   "cell_type": "code",
   "execution_count": 22,
   "metadata": {
    "execution": {
     "iopub.execute_input": "2022-08-31T05:12:30.937874Z",
     "iopub.status.busy": "2022-08-31T05:12:30.937300Z",
     "iopub.status.idle": "2022-08-31T05:12:31.136089Z",
     "shell.execute_reply": "2022-08-31T05:12:31.135366Z"
    },
    "id": "jwEaj9DnTCVA"
   },
   "outputs": [
    {
     "name": "stdout",
     "output_type": "stream",
     "text": [
      "32/32 - 0s - loss: 0.4360 - sparse_categorical_accuracy: 0.8600 - 157ms/epoch - 5ms/step\n"
     ]
    },
    {
     "name": "stdout",
     "output_type": "stream",
     "text": [
      "Restored model, accuracy: 86.00%\n"
     ]
    }
   ],
   "source": [
    "loss, acc = new_model.evaluate(test_images, test_labels, verbose=2)\n",
    "print('Restored model, accuracy: {:5.2f}%'.format(100 * acc))"
   ]
  },
  {
   "cell_type": "markdown",
   "metadata": {
    "id": "dGXqd4wWJl8O"
   },
   "source": [
    "Keras 通过检查模型的架构来保存这些模型。这种技术可以保存所有内容：\n",
    "\n",
    "- 权重值\n",
    "- 模型的架构\n",
    "- 模型的训练配置（您传递给 `.compile()` 方法的内容）\n",
    "- 优化器及其状态（如果有）（这样，您便可从中断的地方重新启动训练）\n",
    "\n",
    "Keras 无法保存 `v1.x` 优化器（来自 `tf.compat.v1.train`），因为它们与检查点不兼容。对于 v1.x 优化器，您需要在加载-失去优化器的状态后，重新编译模型。\n"
   ]
  },
  {
   "cell_type": "markdown",
   "metadata": {
    "id": "kAUKJQyGqTNH"
   },
   "source": [
    "### 保存自定义对象\n",
    "\n",
    "如果您正在使用 SavedModel 格式，则可以跳过此部分。HDF5 和 SavedModel 之间的主要区别在于，HDF5 使用对象配置来保存模型架构，而 SavedModel 则保存执行计算图。因此，SavedModel 能够在不需要原始代码的情况下保存自定义对象，如子类模型和自定义层。\n",
    "\n",
    "要将自定义对象保存到 HDF5，您必须执行以下操作：\n",
    "\n",
    "1. 在您的对象中定义一个 `get_config` 方法，并且可以选择定义一个 `from_config` 类方法。\n",
    "    - `get_config(self)` 返回重新创建对象所需的参数的 JSON 可序列化字典。\n",
    "    - `from_config(cls, config)` 使用从 `get_config` 返回的配置来创建一个新对象。默认情况下，此函数将使用配置作为初始化 kwarg (`return cls(**config)`)。\n",
    "2. 加载模型时将对象传递给 `custom_objects` 参数。参数必须是将字符串类名映射到 Python 类的字典。例如 `tf.keras.models.load_model(path, custom_objects={'CustomLayer': CustomLayer})`\n",
    "\n",
    "有关自定义对象和 `get_config` 的示例，请参阅[从头开始编写层和模型](https://tensorflow.google.cn/guide/keras/custom_layers_and_models)教程。\n"
   ]
  }
 ],
 "metadata": {
  "accelerator": "GPU",
  "colab": {
   "collapsed_sections": [],
   "name": "save_and_load.ipynb",
   "toc_visible": true
  },
  "kernelspec": {
   "display_name": "Python 3",
   "name": "python3"
  },
  "language_info": {
   "codemirror_mode": {
    "name": "ipython",
    "version": 3
   },
   "file_extension": ".py",
   "mimetype": "text/x-python",
   "name": "python",
   "nbconvert_exporter": "python",
   "pygments_lexer": "ipython3",
   "version": "3.11.5"
  }
 },
 "nbformat": 4,
 "nbformat_minor": 0
}
